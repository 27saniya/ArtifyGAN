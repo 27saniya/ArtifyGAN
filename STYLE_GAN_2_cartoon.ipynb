{
  "cells": [
    {
      "cell_type": "markdown",
      "source": [
        "## Style-GAN 2 ADA for generating animated face images"
      ],
      "metadata": {
        "id": "qJv11wYI-Xrf"
      },
      "id": "qJv11wYI-Xrf"
    },
    {
      "cell_type": "code",
      "execution_count": 1,
      "metadata": {
        "colab": {
          "base_uri": "https://localhost:8080/"
        },
        "id": "55119a5f",
        "outputId": "94df5cdc-c039-4bd7-ab21-d1f9dfec16f2"
      },
      "outputs": [
        {
          "output_type": "stream",
          "name": "stdout",
          "text": [
            "Fri May 19 18:54:08 2023       \n",
            "+-----------------------------------------------------------------------------+\n",
            "| NVIDIA-SMI 525.85.12    Driver Version: 525.85.12    CUDA Version: 12.0     |\n",
            "|-------------------------------+----------------------+----------------------+\n",
            "| GPU  Name        Persistence-M| Bus-Id        Disp.A | Volatile Uncorr. ECC |\n",
            "| Fan  Temp  Perf  Pwr:Usage/Cap|         Memory-Usage | GPU-Util  Compute M. |\n",
            "|                               |                      |               MIG M. |\n",
            "|===============================+======================+======================|\n",
            "|   0  Tesla T4            Off  | 00000000:00:04.0 Off |                    0 |\n",
            "| N/A   52C    P8     9W /  70W |      0MiB / 15360MiB |      0%      Default |\n",
            "|                               |                      |                  N/A |\n",
            "+-------------------------------+----------------------+----------------------+\n",
            "                                                                               \n",
            "+-----------------------------------------------------------------------------+\n",
            "| Processes:                                                                  |\n",
            "|  GPU   GI   CI        PID   Type   Process name                  GPU Memory |\n",
            "|        ID   ID                                                   Usage      |\n",
            "|=============================================================================|\n",
            "|  No running processes found                                                 |\n",
            "+-----------------------------------------------------------------------------+\n"
          ]
        }
      ],
      "source": [
        "!nvidia-smi"
      ],
      "id": "55119a5f"
    },
    {
      "cell_type": "markdown",
      "source": [
        "### Loaded the stylegan2 pretrained model"
      ],
      "metadata": {
        "id": "TUaDrm_T-kLO"
      },
      "id": "TUaDrm_T-kLO"
    },
    {
      "cell_type": "code",
      "execution_count": 2,
      "metadata": {
        "colab": {
          "base_uri": "https://localhost:8080/"
        },
        "id": "cf19617d",
        "outputId": "ad9f801c-56b0-4a6b-af32-b523eb912160"
      },
      "outputs": [
        {
          "output_type": "stream",
          "name": "stdout",
          "text": [
            "Cloning into 'stylegan2-ada-pytorch'...\n",
            "remote: Enumerating objects: 544, done.\u001b[K\n",
            "remote: Total 544 (delta 0), reused 0 (delta 0), pack-reused 544\u001b[K\n",
            "Receiving objects: 100% (544/544), 8.42 MiB | 7.78 MiB/s, done.\n",
            "Resolving deltas: 100% (308/308), done.\n",
            "/content/stylegan2-ada-pytorch\n"
          ]
        }
      ],
      "source": [
        "!git clone https://github.com/dvschultz/stylegan2-ada-pytorch\n",
        "%cd stylegan2-ada-pytorch\n",
        "!mkdir downloads\n",
        "!mkdir datasets\n",
        "!mkdir pretrained\n",
        "\n",
        "RAW_IMAGES_DIR = '/content/src_img'  # store src images here\n",
        "ALIGNED_IMAGES_DIR = '/content/aligned_images'"
      ],
      "id": "cf19617d"
    },
    {
      "cell_type": "code",
      "execution_count": 3,
      "metadata": {
        "colab": {
          "base_uri": "https://localhost:8080/"
        },
        "id": "025788b6",
        "outputId": "fc7d144d-0241-4e90-eece-c5bd871ba693"
      },
      "outputs": [
        {
          "output_type": "stream",
          "name": "stdout",
          "text": [
            "Found existing installation: jax 0.4.8\n",
            "Uninstalling jax-0.4.8:\n",
            "  Successfully uninstalled jax-0.4.8\n",
            "Found existing installation: jaxlib 0.4.7+cuda11.cudnn86\n",
            "Uninstalling jaxlib-0.4.7+cuda11.cudnn86:\n",
            "  Successfully uninstalled jaxlib-0.4.7+cuda11.cudnn86\n",
            "Looking in indexes: https://pypi.org/simple, https://us-python.pkg.dev/colab-wheels/public/simple/\n",
            "Looking in links: https://storage.googleapis.com/jax-releases/jax_cuda_releases.html\n",
            "Collecting jax[cuda11_cudnn805]==0.3.10\n",
            "  Downloading jax-0.3.10.tar.gz (939 kB)\n",
            "\u001b[2K     \u001b[90m━━━━━━━━━━━━━━━━━━━━━━━━━━━━━━━━━━━━━━\u001b[0m \u001b[32m939.7/939.7 kB\u001b[0m \u001b[31m52.9 MB/s\u001b[0m eta \u001b[36m0:00:00\u001b[0m\n",
            "\u001b[?25h  Preparing metadata (setup.py) ... \u001b[?25l\u001b[?25hdone\n",
            "Requirement already satisfied: absl-py in /usr/local/lib/python3.10/dist-packages (from jax[cuda11_cudnn805]==0.3.10) (1.4.0)\n",
            "Requirement already satisfied: numpy>=1.19 in /usr/local/lib/python3.10/dist-packages (from jax[cuda11_cudnn805]==0.3.10) (1.22.4)\n",
            "Requirement already satisfied: opt_einsum in /usr/local/lib/python3.10/dist-packages (from jax[cuda11_cudnn805]==0.3.10) (3.3.0)\n",
            "Requirement already satisfied: scipy>=1.2.1 in /usr/local/lib/python3.10/dist-packages (from jax[cuda11_cudnn805]==0.3.10) (1.10.1)\n",
            "Requirement already satisfied: typing_extensions in /usr/local/lib/python3.10/dist-packages (from jax[cuda11_cudnn805]==0.3.10) (4.5.0)\n",
            "Collecting jaxlib==0.3.10+cuda11.cudnn805 (from jax[cuda11_cudnn805]==0.3.10)\n",
            "  Downloading https://storage.googleapis.com/jax-releases/cuda11/jaxlib-0.3.10%2Bcuda11.cudnn805-cp310-none-manylinux2014_x86_64.whl (175.7 MB)\n",
            "\u001b[2K     \u001b[90m━━━━━━━━━━━━━━━━━━━━━━━━━━━━━━━━━━━━━━━\u001b[0m \u001b[32m175.7/175.7 MB\u001b[0m \u001b[31m4.5 MB/s\u001b[0m eta \u001b[36m0:00:00\u001b[0m\n",
            "\u001b[?25hCollecting flatbuffers<3.0,>=1.12 (from jaxlib==0.3.10+cuda11.cudnn805->jax[cuda11_cudnn805]==0.3.10)\n",
            "  Downloading flatbuffers-2.0.7-py2.py3-none-any.whl (26 kB)\n",
            "Building wheels for collected packages: jax\n",
            "  Building wheel for jax (setup.py) ... \u001b[?25l\u001b[?25hdone\n",
            "  Created wheel for jax: filename=jax-0.3.10-py3-none-any.whl size=1088052 sha256=243686143967d12e99e5575f64ac4fa658951ff7106cfc29e6e9235af6bd1692\n",
            "  Stored in directory: /root/.cache/pip/wheels/41/b8/74/0e87ee9c40aa5187c299d70fc5b0ceffcbb124175b8873eaed\n",
            "Successfully built jax\n",
            "Installing collected packages: flatbuffers, jaxlib, jax\n",
            "  Attempting uninstall: flatbuffers\n",
            "    Found existing installation: flatbuffers 23.3.3\n",
            "    Uninstalling flatbuffers-23.3.3:\n",
            "      Successfully uninstalled flatbuffers-23.3.3\n",
            "\u001b[31mERROR: pip's dependency resolver does not currently take into account all the packages that are installed. This behaviour is the source of the following dependency conflicts.\n",
            "chex 0.1.7 requires jax>=0.4.6, but you have jax 0.3.10 which is incompatible.\n",
            "flax 0.6.9 requires jax>=0.4.2, but you have jax 0.3.10 which is incompatible.\n",
            "orbax-checkpoint 0.2.1 requires jax>=0.4.8, but you have jax 0.3.10 which is incompatible.\n",
            "tensorflow 2.12.0 requires jax>=0.3.15, but you have jax 0.3.10 which is incompatible.\u001b[0m\u001b[31m\n",
            "\u001b[0mSuccessfully installed flatbuffers-2.0.7 jax-0.3.10 jaxlib-0.3.10+cuda11.cudnn805\n",
            "Looking in indexes: https://pypi.org/simple, https://us-python.pkg.dev/colab-wheels/public/simple/\n",
            "Collecting timm==0.4.12\n",
            "  Downloading timm-0.4.12-py3-none-any.whl (376 kB)\n",
            "\u001b[2K     \u001b[90m━━━━━━━━━━━━━━━━━━━━━━━━━━━━━━━━━━━━━━\u001b[0m \u001b[32m377.0/377.0 kB\u001b[0m \u001b[31m24.4 MB/s\u001b[0m eta \u001b[36m0:00:00\u001b[0m\n",
            "\u001b[?25hCollecting ftfy==6.1.1\n",
            "  Downloading ftfy-6.1.1-py3-none-any.whl (53 kB)\n",
            "\u001b[2K     \u001b[90m━━━━━━━━━━━━━━━━━━━━━━━━━━━━━━━━━━━━━━━━\u001b[0m \u001b[32m53.1/53.1 kB\u001b[0m \u001b[31m8.4 MB/s\u001b[0m eta \u001b[36m0:00:00\u001b[0m\n",
            "\u001b[?25hCollecting ninja==1.10.2\n",
            "  Downloading ninja-1.10.2-py2.py3-none-manylinux_2_5_x86_64.manylinux1_x86_64.whl (108 kB)\n",
            "\u001b[2K     \u001b[90m━━━━━━━━━━━━━━━━━━━━━━━━━━━━━━━━━━━━━━\u001b[0m \u001b[32m108.1/108.1 kB\u001b[0m \u001b[31m15.1 MB/s\u001b[0m eta \u001b[36m0:00:00\u001b[0m\n",
            "\u001b[?25hCollecting opensimplex\n",
            "  Downloading opensimplex-0.4.4-py3-none-any.whl (19 kB)\n",
            "Requirement already satisfied: torch>=1.4 in /usr/local/lib/python3.10/dist-packages (from timm==0.4.12) (2.0.1+cu118)\n",
            "Requirement already satisfied: torchvision in /usr/local/lib/python3.10/dist-packages (from timm==0.4.12) (0.15.2+cu118)\n",
            "Requirement already satisfied: wcwidth>=0.2.5 in /usr/local/lib/python3.10/dist-packages (from ftfy==6.1.1) (0.2.6)\n",
            "Requirement already satisfied: numpy>=1.22 in /usr/local/lib/python3.10/dist-packages (from opensimplex) (1.22.4)\n",
            "Requirement already satisfied: filelock in /usr/local/lib/python3.10/dist-packages (from torch>=1.4->timm==0.4.12) (3.12.0)\n",
            "Requirement already satisfied: typing-extensions in /usr/local/lib/python3.10/dist-packages (from torch>=1.4->timm==0.4.12) (4.5.0)\n",
            "Requirement already satisfied: sympy in /usr/local/lib/python3.10/dist-packages (from torch>=1.4->timm==0.4.12) (1.11.1)\n",
            "Requirement already satisfied: networkx in /usr/local/lib/python3.10/dist-packages (from torch>=1.4->timm==0.4.12) (3.1)\n",
            "Requirement already satisfied: jinja2 in /usr/local/lib/python3.10/dist-packages (from torch>=1.4->timm==0.4.12) (3.1.2)\n",
            "Requirement already satisfied: triton==2.0.0 in /usr/local/lib/python3.10/dist-packages (from torch>=1.4->timm==0.4.12) (2.0.0)\n",
            "Requirement already satisfied: cmake in /usr/local/lib/python3.10/dist-packages (from triton==2.0.0->torch>=1.4->timm==0.4.12) (3.25.2)\n",
            "Requirement already satisfied: lit in /usr/local/lib/python3.10/dist-packages (from triton==2.0.0->torch>=1.4->timm==0.4.12) (16.0.5)\n",
            "Requirement already satisfied: requests in /usr/local/lib/python3.10/dist-packages (from torchvision->timm==0.4.12) (2.27.1)\n",
            "Requirement already satisfied: pillow!=8.3.*,>=5.3.0 in /usr/local/lib/python3.10/dist-packages (from torchvision->timm==0.4.12) (8.4.0)\n",
            "Requirement already satisfied: MarkupSafe>=2.0 in /usr/local/lib/python3.10/dist-packages (from jinja2->torch>=1.4->timm==0.4.12) (2.1.2)\n",
            "Requirement already satisfied: urllib3<1.27,>=1.21.1 in /usr/local/lib/python3.10/dist-packages (from requests->torchvision->timm==0.4.12) (1.26.15)\n",
            "Requirement already satisfied: certifi>=2017.4.17 in /usr/local/lib/python3.10/dist-packages (from requests->torchvision->timm==0.4.12) (2022.12.7)\n",
            "Requirement already satisfied: charset-normalizer~=2.0.0 in /usr/local/lib/python3.10/dist-packages (from requests->torchvision->timm==0.4.12) (2.0.12)\n",
            "Requirement already satisfied: idna<4,>=2.5 in /usr/local/lib/python3.10/dist-packages (from requests->torchvision->timm==0.4.12) (3.4)\n",
            "Requirement already satisfied: mpmath>=0.19 in /usr/local/lib/python3.10/dist-packages (from sympy->torch>=1.4->timm==0.4.12) (1.3.0)\n",
            "Installing collected packages: ninja, opensimplex, ftfy, timm\n",
            "Successfully installed ftfy-6.1.1 ninja-1.10.2 opensimplex-0.4.4 timm-0.4.12\n"
          ]
        }
      ],
      "source": [
        "#Uninstall new JAX\n",
        "!pip uninstall jax jaxlib -y\n",
        "#GPU frontend\n",
        "!pip install \"jax[cuda11_cudnn805]==0.3.10\" -f https://storage.googleapis.com/jax-releases/jax_cuda_releases.html\n",
        "#CPU frontend \n",
        "#!pip install jax[cpu]==0.3.10\n",
        "#Downgrade Pytorch\n",
        "\n",
        "#!pip install torchvision==0.10.0+cu111 -f https://download.pytorch.org/whl/torch_stable.html\n",
        "#!pip install torch==1.8.0+cu111 torchvision==0.10.0+cu111 -f https://download.pytorch.org/whl/torch_stable.html\n",
        "!pip install timm==0.4.12 ftfy==6.1.1 ninja==1.10.2 opensimplex"
      ],
      "id": "025788b6"
    },
    {
      "cell_type": "code",
      "source": [
        "!python --version "
      ],
      "metadata": {
        "colab": {
          "base_uri": "https://localhost:8080/"
        },
        "id": "aefxDxQjQwPT",
        "outputId": "22db6431-b1ad-4b9f-8136-c7974f33cd46"
      },
      "id": "aefxDxQjQwPT",
      "execution_count": 4,
      "outputs": [
        {
          "output_type": "stream",
          "name": "stdout",
          "text": [
            "Python 3.10.11\n"
          ]
        }
      ]
    },
    {
      "cell_type": "code",
      "source": [
        "!pip uninstall torch torchvision -y\n",
        "!pip install torch==1.12.1+cu113 -f https://download.pytorch.org/whl/torch_stable.html"
      ],
      "metadata": {
        "colab": {
          "base_uri": "https://localhost:8080/"
        },
        "id": "Fw2HJ776QPyr",
        "outputId": "546fc195-08c7-47df-eabc-ee12c63e4f2f"
      },
      "id": "Fw2HJ776QPyr",
      "execution_count": 5,
      "outputs": [
        {
          "output_type": "stream",
          "name": "stdout",
          "text": [
            "Found existing installation: torch 2.0.1+cu118\n",
            "Uninstalling torch-2.0.1+cu118:\n",
            "  Successfully uninstalled torch-2.0.1+cu118\n",
            "Found existing installation: torchvision 0.15.2+cu118\n",
            "Uninstalling torchvision-0.15.2+cu118:\n",
            "  Successfully uninstalled torchvision-0.15.2+cu118\n",
            "Looking in indexes: https://pypi.org/simple, https://us-python.pkg.dev/colab-wheels/public/simple/\n",
            "Looking in links: https://download.pytorch.org/whl/torch_stable.html\n",
            "Collecting torch==1.12.1+cu113\n",
            "  Downloading https://download.pytorch.org/whl/cu113/torch-1.12.1%2Bcu113-cp310-cp310-linux_x86_64.whl (1837.7 MB)\n",
            "\u001b[2K     \u001b[90m━━━━━━━━━━━━━━━━━━━━━━━━━━━━━━━━━━━━━━━━\u001b[0m \u001b[32m1.8/1.8 GB\u001b[0m \u001b[31m966.0 kB/s\u001b[0m eta \u001b[36m0:00:00\u001b[0m\n",
            "\u001b[?25hRequirement already satisfied: typing-extensions in /usr/local/lib/python3.10/dist-packages (from torch==1.12.1+cu113) (4.5.0)\n",
            "Installing collected packages: torch\n",
            "\u001b[31mERROR: pip's dependency resolver does not currently take into account all the packages that are installed. This behaviour is the source of the following dependency conflicts.\n",
            "fastai 2.7.12 requires torchvision>=0.8.2, which is not installed.\n",
            "timm 0.4.12 requires torchvision, which is not installed.\n",
            "torchaudio 2.0.2+cu118 requires torch==2.0.1, but you have torch 1.12.1+cu113 which is incompatible.\n",
            "torchdata 0.6.1 requires torch==2.0.1, but you have torch 1.12.1+cu113 which is incompatible.\n",
            "torchtext 0.15.2 requires torch==2.0.1, but you have torch 1.12.1+cu113 which is incompatible.\u001b[0m\u001b[31m\n",
            "\u001b[0mSuccessfully installed torch-1.12.1+cu113\n"
          ]
        }
      ]
    },
    {
      "cell_type": "code",
      "execution_count": 6,
      "metadata": {
        "id": "317f50d7"
      },
      "outputs": [],
      "source": [
        "# for local installation od torch\n",
        "#!pip install /media/saniya/76E8-CACF/torch-1.9.0+cu111-cp39-cp39-linux_x86_64.whl"
      ],
      "id": "317f50d7"
    },
    {
      "cell_type": "code",
      "source": [
        "from google.colab import drive\n",
        "drive.mount('/content/drive')"
      ],
      "metadata": {
        "colab": {
          "base_uri": "https://localhost:8080/"
        },
        "id": "AlRGPI3cKC25",
        "outputId": "788672a5-745d-47b5-bd29-c3db472819ef"
      },
      "id": "AlRGPI3cKC25",
      "execution_count": 7,
      "outputs": [
        {
          "output_type": "stream",
          "name": "stdout",
          "text": [
            "Mounted at /content/drive\n"
          ]
        }
      ]
    },
    {
      "cell_type": "markdown",
      "source": [
        "### Load the pre-trained weights stylegan 2 trained for FFHQ (face) dataset "
      ],
      "metadata": {
        "id": "j3LFvxtP-00w"
      },
      "id": "j3LFvxtP-00w"
    },
    {
      "cell_type": "code",
      "execution_count": 8,
      "metadata": {
        "colab": {
          "base_uri": "https://localhost:8080/"
        },
        "id": "81c5bf2f",
        "outputId": "853c5c12-159d-49e4-c1f3-a37682f67044"
      },
      "outputs": [
        {
          "output_type": "stream",
          "name": "stdout",
          "text": [
            "/content/stylegan2-ada-pytorch/pretrained\n",
            "--2023-05-19 18:58:14--  https://nvlabs-fi-cdn.nvidia.com/stylegan2-ada-pytorch/pretrained/ffhq.pkl\n",
            "Resolving nvlabs-fi-cdn.nvidia.com (nvlabs-fi-cdn.nvidia.com)... 52.84.251.69, 52.84.251.32, 52.84.251.108, ...\n",
            "Connecting to nvlabs-fi-cdn.nvidia.com (nvlabs-fi-cdn.nvidia.com)|52.84.251.69|:443... connected.\n",
            "HTTP request sent, awaiting response... 200 OK\n",
            "Length: 381624121 (364M) [binary/octet-stream]\n",
            "Saving to: ‘ffhq.pkl’\n",
            "\n",
            "ffhq.pkl            100%[===================>] 363.94M  22.4MB/s    in 18s     \n",
            "\n",
            "2023-05-19 18:58:34 (19.7 MB/s) - ‘ffhq.pkl’ saved [381624121/381624121]\n",
            "\n",
            "/content/stylegan2-ada-pytorch\n"
          ]
        }
      ],
      "source": [
        "%cd pretrained\n",
        "!wget https://nvlabs-fi-cdn.nvidia.com/stylegan2-ada-pytorch/pretrained/ffhq.pkl\n",
        "%cd ../"
      ],
      "id": "81c5bf2f"
    },
    {
      "cell_type": "code",
      "execution_count": 9,
      "metadata": {
        "colab": {
          "base_uri": "https://localhost:8080/"
        },
        "id": "01d282d8",
        "outputId": "fce285f6-af87-4189-b487-51ca82ab9758"
      },
      "outputs": [
        {
          "output_type": "stream",
          "name": "stdout",
          "text": [
            "apply_factor.py\t\t      metrics\n",
            "blend_models.py\t\t      Network_Blending_ADA_PT.ipynb\n",
            "calc_metrics.py\t\t      pbaylies_projector.py\n",
            "closed_form_factorization.py  pretrained\n",
            "combine_npz.py\t\t      projector.py\n",
            "datasets\t\t      README.md\n",
            "dataset_tool.py\t\t      SG2-ADA-PT_AudioReactive+Pitch.ipynb\n",
            "dnnlib\t\t\t      SG2_ADA_PT_to_Rosinality.ipynb\n",
            "Dockerfile\t\t      SG2_ADA_PyTorch.ipynb\n",
            "docker_run.sh\t\t      StyleCLIP_playground.ipynb\n",
            "docs\t\t\t      StyleGAN2_CLIP_approach_v1.ipynb\n",
            "downloads\t\t      style_mixing.py\n",
            "export_weights.py\t      torch_utils\n",
            "flesh_digression.py\t      training\n",
            "generate.py\t\t      train.py\n",
            "legacy.py\t\t      util\n",
            "LICENSE.txt\n"
          ]
        }
      ],
      "source": [
        "!ls"
      ],
      "id": "01d282d8"
    },
    {
      "cell_type": "markdown",
      "source": [
        "### Extract the aligned cartoon images scraped from true-beauty"
      ],
      "metadata": {
        "id": "mW6rQXO8GpNa"
      },
      "id": "mW6rQXO8GpNa"
    },
    {
      "cell_type": "code",
      "execution_count": 10,
      "metadata": {
        "colab": {
          "base_uri": "https://localhost:8080/"
        },
        "id": "KIdv3xbTjaSq",
        "outputId": "66d83afb-a397-4643-a025-b860805cd639"
      },
      "outputs": [
        {
          "output_type": "stream",
          "name": "stdout",
          "text": [
            "Zip file extracted successfully.\n"
          ]
        }
      ],
      "source": [
        "import zipfile\n",
        "# For extracting aligned images\n",
        "dataset_path_zip = \"/content/drive/MyDrive/align_image.zip\"\n",
        "dataset_path_aligned = \"/content/aligned_images\"\n",
        "\n",
        "# Open the zip file\n",
        "with zipfile.ZipFile(dataset_path_zip, 'r') as zip_ref:\n",
        "    # Extract all the files to the current directory\n",
        "    zip_ref.extractall(dataset_path_aligned)\n",
        "    \n",
        "print(\"Zip file extracted successfully.\")"
      ],
      "id": "KIdv3xbTjaSq"
    },
    {
      "cell_type": "code",
      "execution_count": 8,
      "metadata": {
        "id": "3cb574df"
      },
      "outputs": [],
      "source": [
        "# This is used if raw crawledd data is used\n",
        "\n",
        "# Set the path of the zip file\n",
        "#dataset_path = \"./datasets/trueBeauty.zip\"\n",
        "\n",
        "# Open the zip file\n",
        "#with zipfile.ZipFile(dataset_path, 'r') as zip_ref:\n",
        "#    # Extract all the files to the current directory\n",
        "#    zip_ref.extractall(dataset_path_og)\n",
        "    \n",
        "#print(\"Zip file extracted successfully.\")"
      ],
      "id": "3cb574df"
    },
    {
      "cell_type": "code",
      "execution_count": 9,
      "metadata": {
        "id": "1a75787e"
      },
      "outputs": [],
      "source": [
        "# This is to be done for RAW data\n",
        "\n",
        "# convert the png 32 bit image to 24 bit image (RGB- 24 bit images)\n",
        "#from PIL import Image\n",
        "#import os\n",
        "\n",
        "# Iterate over each file in the folder\n",
        "#for filename in os.listdir(dataset_path_og):\n",
        "#    # Check if file is a PNG image\n",
        "#    if filename.endswith(\".jpg\"):\n",
        "        # Set path to the PNG image\n",
        "#        file_path = os.path.join(dataset_path_og, filename)\n",
        "        \n",
        "        # Open the image and convert it to 24 bit\n",
        "#        img = Image.open(file_path).convert('RGB')\n",
        "        \n",
        "        # Save the converted image in place of the original image\n",
        "#        img.save(file_path)\n",
        "        \n",
        "#print(\"Conversion complete.\")"
      ],
      "id": "1a75787e"
    },
    {
      "cell_type": "code",
      "execution_count": 11,
      "metadata": {
        "colab": {
          "base_uri": "https://localhost:8080/",
          "height": 383
        },
        "id": "eF4bLrpXjOTb",
        "outputId": "e3a55ecf-aeb7-41c1-e1bf-f3596a429c4f"
      },
      "outputs": [
        {
          "output_type": "stream",
          "name": "stdout",
          "text": [
            "Looking in indexes: https://pypi.org/simple, https://us-python.pkg.dev/colab-wheels/public/simple/\n",
            "Collecting setuptools==59.5.0\n",
            "  Downloading setuptools-59.5.0-py3-none-any.whl (952 kB)\n",
            "\u001b[2K     \u001b[90m━━━━━━━━━━━━━━━━━━━━━━━━━━━━━━━━━━━━━━\u001b[0m \u001b[32m952.4/952.4 kB\u001b[0m \u001b[31m29.6 MB/s\u001b[0m eta \u001b[36m0:00:00\u001b[0m\n",
            "\u001b[?25hInstalling collected packages: setuptools\n",
            "  Attempting uninstall: setuptools\n",
            "    Found existing installation: setuptools 67.7.2\n",
            "    Uninstalling setuptools-67.7.2:\n",
            "      Successfully uninstalled setuptools-67.7.2\n",
            "\u001b[31mERROR: pip's dependency resolver does not currently take into account all the packages that are installed. This behaviour is the source of the following dependency conflicts.\n",
            "ipython 7.34.0 requires jedi>=0.16, which is not installed.\n",
            "arviz 0.15.1 requires setuptools>=60.0.0, but you have setuptools 59.5.0 which is incompatible.\n",
            "cvxpy 1.3.1 requires setuptools>65.5.1, but you have setuptools 59.5.0 which is incompatible.\n",
            "tensorflow 2.12.0 requires jax>=0.3.15, but you have jax 0.3.10 which is incompatible.\u001b[0m\u001b[31m\n",
            "\u001b[0mSuccessfully installed setuptools-59.5.0\n"
          ]
        },
        {
          "output_type": "display_data",
          "data": {
            "application/vnd.colab-display-data+json": {
              "pip_warning": {
                "packages": [
                  "_distutils_hack",
                  "pkg_resources",
                  "setuptools"
                ]
              }
            }
          },
          "metadata": {}
        }
      ],
      "source": [
        "!pip install setuptools==59.5.0"
      ],
      "id": "eF4bLrpXjOTb"
    },
    {
      "cell_type": "code",
      "execution_count": 10,
      "metadata": {
        "colab": {
          "base_uri": "https://localhost:8080/"
        },
        "id": "61bde201",
        "outputId": "52b03749-0154-4f76-d148-7abf4d2568ae"
      },
      "outputs": [
        {
          "output_type": "stream",
          "name": "stdout",
          "text": [
            "Looking in indexes: https://pypi.org/simple, https://us-python.pkg.dev/colab-wheels/public/simple/\n",
            "Requirement already satisfied: tqdm in /usr/local/lib/python3.10/dist-packages (4.65.0)\n"
          ]
        }
      ],
      "source": [
        "!pip install tqdm"
      ],
      "id": "61bde201"
    },
    {
      "cell_type": "code",
      "execution_count": 12,
      "metadata": {
        "id": "f37f745b",
        "outputId": "2f2df1f8-316c-4dc5-8ed4-9456b7cd48f5",
        "colab": {
          "base_uri": "https://localhost:8080/"
        }
      },
      "outputs": [
        {
          "output_type": "stream",
          "name": "stdout",
          "text": [
            "Usage: dataset_tool.py [OPTIONS]\n",
            "Try 'dataset_tool.py --help' for help.\n",
            "\n",
            "Error: Missing option '--dest'.\n"
          ]
        }
      ],
      "source": [
        "# do this for raw images\n",
        "#!python dataset_tool.py --source $dataset_path_og --dest $dataset_path_scaled_small --width 256 --height 256"
      ],
      "id": "f37f745b"
    },
    {
      "cell_type": "markdown",
      "source": [
        "### Hyper-parameters"
      ],
      "metadata": {
        "id": "9TZ-TFZQdru8"
      },
      "id": "9TZ-TFZQdru8"
    },
    {
      "cell_type": "code",
      "execution_count": 12,
      "metadata": {
        "id": "23a960af"
      },
      "outputs": [],
      "source": [
        "#Required\n",
        "dataset_path = dataset_path_aligned\n",
        "#resume_from = './results/00012-trueBeauty_sdg-mirror-11gb-gpu-gamma50-bg-resumecustom-freezed2/network-snapshot-000004.pkl'\n",
        "resume_from = './pretrained/ffhq.pkl'\n",
        "aug_strength = 0\n",
        "train_count = 0\n",
        "mirror_x = True\n",
        "#mirror_y = False\n",
        "\n",
        "#optional: you might not need to edit these\n",
        "gamma_value = 50.0\n",
        "augs = 'bg'\n",
        "config = '11gb-gpu'\n",
        "snapshot_count = 1\n",
        "freeze_count = 4"
      ],
      "id": "23a960af"
    },
    {
      "cell_type": "code",
      "execution_count": 13,
      "metadata": {
        "id": "d30fe697"
      },
      "outputs": [],
      "source": [
        "# training code \n",
        "!python train.py --gpus=1 --cfg=$config --metrics=None --freezed=$freeze_count --outdir=./results --data=$dataset_path --snap=$snapshot_count --resume=$resume_from --augpipe=$augs --initstrength=$aug_strength --gamma=$gamma_value --mirror=$mirror_x --mirrory=False --nkimg=$train_count"
      ],
      "id": "d30fe697"
    },
    {
      "cell_type": "code",
      "execution_count": null,
      "metadata": {
        "id": "G2KTlH0qyU3p"
      },
      "outputs": [],
      "source": [
        "import locale\n",
        "locale.getpreferredencoding = lambda: \"UTF-8\""
      ],
      "id": "G2KTlH0qyU3p"
    },
    {
      "cell_type": "code",
      "source": [
        "!gdown https://drive.google.com/uc?id=1q31zAaSYpi2Dcr_i4Axir73k9CBbrwHu"
      ],
      "metadata": {
        "colab": {
          "base_uri": "https://localhost:8080/"
        },
        "id": "GDiM6FrRYije",
        "outputId": "46cec742-e4b6-42b9-f8b4-dc4ff0e4295f"
      },
      "id": "GDiM6FrRYije",
      "execution_count": 14,
      "outputs": [
        {
          "output_type": "stream",
          "name": "stdout",
          "text": [
            "Downloading...\n",
            "From: https://drive.google.com/uc?id=1q31zAaSYpi2Dcr_i4Axir73k9CBbrwHu\n",
            "To: /content/stylegan2-ada-pytorch/network-snapshot-000012.pkl\n",
            "100% 357M/357M [00:07<00:00, 48.7MB/s]\n"
          ]
        }
      ]
    },
    {
      "cell_type": "code",
      "execution_count": 15,
      "metadata": {
        "colab": {
          "base_uri": "https://localhost:8080/"
        },
        "id": "ea64f726",
        "outputId": "c786cb03-566e-47e2-af39-a2d9dd771d7e"
      },
      "outputs": [
        {
          "output_type": "stream",
          "name": "stdout",
          "text": [
            "/content/stylegan2-ada-pytorch/generate.py:59: SyntaxWarning: \"is not\" with a literal. Did you mean \"!=\"?\n",
            "  elif(len(seeds) is not 3):\n",
            "Loading networks from \"/content/stylegan2-ada-pytorch/network-snapshot-000012.pkl\"...\n",
            "Generating image for seed 0 (0/1) ...\n",
            "Setting up PyTorch plugin \"bias_act_plugin\"... Done.\n",
            "Setting up PyTorch plugin \"upfirdn2d_plugin\"... Done.\n"
          ]
        }
      ],
      "source": [
        "model_test = '/content/stylegan2-ada-pytorch/network-snapshot-000012.pkl'\n",
        "!python generate.py --outdir=/content/out/images/ --trunc=0.8 --seeds=0 --network=$model_test"
      ],
      "id": "ea64f726"
    },
    {
      "cell_type": "markdown",
      "source": [
        "### Face alignment of the celebA images (test images)"
      ],
      "metadata": {
        "id": "fAKltSrLd15X"
      },
      "id": "fAKltSrLd15X"
    },
    {
      "cell_type": "code",
      "execution_count": 16,
      "metadata": {
        "colab": {
          "base_uri": "https://localhost:8080/",
          "height": 654,
          "referenced_widgets": [
            "7a538d20a7f04283a182dafcbeed49f3",
            "1be100b1f8384de0ab299553faaba9e3",
            "1f68dc17ed48479d85eb278d26316398",
            "bb284e829af94c74871a4232c45cca1c",
            "811380c383ac43009be62c42b9a1ee9b",
            "c9c111dc403b47dfb3cbd8d2d086e000",
            "3a6f0c2a3efc49c9aaba4af0575d5e91",
            "6f52fc27c1354a19995e8e22b2d3bb5a",
            "4c5680d385354ba4a1756fb6593da532",
            "c112f89c1a644d4282633cb8d1b7e527",
            "aac26c315fe34bb9b5a64f57cdc32edc",
            "7b2132f898c04fff8af87bde163292a2",
            "db0d6bef08cf4ee2b548f43f84208ece",
            "5f8df53f8ff34a01b1745b466753ee4f",
            "1c11df65f099459fafaba248ea2f5c4d",
            "197edf1da5a64f6098b06569ff73e5f5",
            "2128c4b43da04337a3034f626898a05e",
            "25e998586a714ea79f26bdc253bfbb42",
            "e39aa606d54c40be8377b25bab44fc6e",
            "8de4775f4f7c431194b7c9f408456566",
            "dbc0756d23e64600bcb4dbe459c9c9b5",
            "01afaa6ac133454d8f889fafc9cc381d",
            "cae549454a334168b6c913cc1bd7ce9f",
            "952b5993855344afac939a00aca8bed4",
            "98bffc63eb204603ae6358244539f0b8",
            "d90e39472046455eb34965ce48a4ab6e",
            "e45630730d3140a9be6313152d02c178",
            "b9375423bde94eb9b0568c7fdb2ac9a2",
            "de2fc05923c24f99aadcc74b68ea493b",
            "2f1a0a7636514b1daf5494f07b34fa1d",
            "17e967a79ecd424ab4128612bccebdd1",
            "5b95eb7f8f7d4119b0562ffd58105825",
            "a780b8c994d04f529a3065a3900ed18e"
          ]
        },
        "id": "mB0E5Esowuke",
        "outputId": "bc72c362-a01d-4919-c58b-10c500fc63a4"
      },
      "outputs": [
        {
          "output_type": "stream",
          "name": "stdout",
          "text": [
            "Looking in indexes: https://pypi.org/simple, https://us-python.pkg.dev/colab-wheels/public/simple/\n",
            "Collecting face_alignment\n",
            "  Downloading face_alignment-1.3.5.tar.gz (27 kB)\n",
            "  Preparing metadata (setup.py) ... \u001b[?25l\u001b[?25hdone\n",
            "Requirement already satisfied: torch in /usr/local/lib/python3.10/dist-packages (from face_alignment) (1.12.1+cu113)\n",
            "Requirement already satisfied: numpy in /usr/local/lib/python3.10/dist-packages (from face_alignment) (1.22.4)\n",
            "Requirement already satisfied: scipy>=0.17 in /usr/local/lib/python3.10/dist-packages (from face_alignment) (1.10.1)\n",
            "Requirement already satisfied: scikit-image in /usr/local/lib/python3.10/dist-packages (from face_alignment) (0.19.3)\n",
            "Requirement already satisfied: opencv-python in /usr/local/lib/python3.10/dist-packages (from face_alignment) (4.7.0.72)\n",
            "Requirement already satisfied: tqdm in /usr/local/lib/python3.10/dist-packages (from face_alignment) (4.65.0)\n",
            "Requirement already satisfied: numba in /usr/local/lib/python3.10/dist-packages (from face_alignment) (0.56.4)\n",
            "Requirement already satisfied: llvmlite<0.40,>=0.39.0dev0 in /usr/local/lib/python3.10/dist-packages (from numba->face_alignment) (0.39.1)\n",
            "Requirement already satisfied: setuptools in /usr/local/lib/python3.10/dist-packages (from numba->face_alignment) (59.5.0)\n",
            "Requirement already satisfied: networkx>=2.2 in /usr/local/lib/python3.10/dist-packages (from scikit-image->face_alignment) (3.1)\n",
            "Requirement already satisfied: pillow!=7.1.0,!=7.1.1,!=8.3.0,>=6.1.0 in /usr/local/lib/python3.10/dist-packages (from scikit-image->face_alignment) (8.4.0)\n",
            "Requirement already satisfied: imageio>=2.4.1 in /usr/local/lib/python3.10/dist-packages (from scikit-image->face_alignment) (2.25.1)\n",
            "Requirement already satisfied: tifffile>=2019.7.26 in /usr/local/lib/python3.10/dist-packages (from scikit-image->face_alignment) (2023.4.12)\n",
            "Requirement already satisfied: PyWavelets>=1.1.1 in /usr/local/lib/python3.10/dist-packages (from scikit-image->face_alignment) (1.4.1)\n",
            "Requirement already satisfied: packaging>=20.0 in /usr/local/lib/python3.10/dist-packages (from scikit-image->face_alignment) (23.1)\n",
            "Requirement already satisfied: typing-extensions in /usr/local/lib/python3.10/dist-packages (from torch->face_alignment) (4.5.0)\n",
            "Building wheels for collected packages: face_alignment\n",
            "  Building wheel for face_alignment (setup.py) ... \u001b[?25l\u001b[?25hdone\n",
            "  Created wheel for face_alignment: filename=face_alignment-1.3.5-py2.py3-none-any.whl size=28239 sha256=3923b19c39438c9ca8dd3504e2dbe468a447911ef6c2a13266507bb5564074a7\n",
            "  Stored in directory: /root/.cache/pip/wheels/97/4f/65/48940e0c8eabe818a5170a1117777520718d5a875a25626789\n",
            "Successfully built face_alignment\n",
            "Installing collected packages: face_alignment\n",
            "Successfully installed face_alignment-1.3.5\n"
          ]
        },
        {
          "output_type": "stream",
          "name": "stderr",
          "text": [
            "Downloading: \"https://www.adrianbulat.com/downloads/python-fan/s3fd-619a316812.pth\" to /root/.cache/torch/hub/checkpoints/s3fd-619a316812.pth\n"
          ]
        },
        {
          "output_type": "display_data",
          "data": {
            "text/plain": [
              "  0%|          | 0.00/85.7M [00:00<?, ?B/s]"
            ],
            "application/vnd.jupyter.widget-view+json": {
              "version_major": 2,
              "version_minor": 0,
              "model_id": "7a538d20a7f04283a182dafcbeed49f3"
            }
          },
          "metadata": {}
        },
        {
          "output_type": "stream",
          "name": "stderr",
          "text": [
            "Downloading: \"https://www.adrianbulat.com/downloads/python-fan/3DFAN4-4a694010b9.zip\" to /root/.cache/torch/hub/checkpoints/3DFAN4-4a694010b9.zip\n"
          ]
        },
        {
          "output_type": "display_data",
          "data": {
            "text/plain": [
              "  0%|          | 0.00/91.9M [00:00<?, ?B/s]"
            ],
            "application/vnd.jupyter.widget-view+json": {
              "version_major": 2,
              "version_minor": 0,
              "model_id": "7b2132f898c04fff8af87bde163292a2"
            }
          },
          "metadata": {}
        },
        {
          "output_type": "stream",
          "name": "stderr",
          "text": [
            "Downloading: \"https://www.adrianbulat.com/downloads/python-fan/depth-6c4283c0e0.zip\" to /root/.cache/torch/hub/checkpoints/depth-6c4283c0e0.zip\n"
          ]
        },
        {
          "output_type": "display_data",
          "data": {
            "text/plain": [
              "  0%|          | 0.00/224M [00:00<?, ?B/s]"
            ],
            "application/vnd.jupyter.widget-view+json": {
              "version_major": 2,
              "version_minor": 0,
              "model_id": "cae549454a334168b6c913cc1bd7ce9f"
            }
          },
          "metadata": {}
        }
      ],
      "source": [
        "!pip install face_alignment\n",
        "import sys\n",
        "import os\n",
        "\n",
        "import numpy as np\n",
        "import scipy.ndimage\n",
        "import PIL.Image\n",
        "import face_alignment\n",
        "def image_align(src_file, dst_file, face_landmarks, output_size=256, transform_size=1024, enable_padding=True):\n",
        "        # Align function from FFHQ dataset pre-processing step\n",
        "        # https://github.com/NVlabs/ffhq-dataset/blob/master/download_ffhq.py\n",
        "\n",
        "        lm = np.array(face_landmarks)\n",
        "        lm_chin          = lm[0  : 17, :2]  # left-right\n",
        "        lm_eyebrow_left  = lm[17 : 22, :2]  # left-right\n",
        "        lm_eyebrow_right = lm[22 : 27, :2]  # left-right\n",
        "        lm_nose          = lm[27 : 31, :2]  # top-down\n",
        "        lm_nostrils      = lm[31 : 36, :2]  # top-down\n",
        "        lm_eye_left      = lm[36 : 42, :2]  # left-clockwise\n",
        "        lm_eye_right     = lm[42 : 48, :2]  # left-clockwise\n",
        "        lm_mouth_outer   = lm[48 : 60, :2]  # left-clockwise\n",
        "        lm_mouth_inner   = lm[60 : 68, :2]  # left-clockwise\n",
        "\n",
        "        # Calculate auxiliary vectors.\n",
        "        eye_left     = np.mean(lm_eye_left, axis=0)\n",
        "        eye_right    = np.mean(lm_eye_right, axis=0)\n",
        "        eye_avg      = (eye_left + eye_right) * 0.5\n",
        "        eye_to_eye   = eye_right - eye_left\n",
        "        mouth_left   = lm_mouth_outer[0]\n",
        "        mouth_right  = lm_mouth_outer[6]\n",
        "        mouth_avg    = (mouth_left + mouth_right) * 0.5\n",
        "        eye_to_mouth = mouth_avg - eye_avg\n",
        "\n",
        "        # Choose oriented crop rectangle.\n",
        "        x = eye_to_eye - np.flipud(eye_to_mouth) * [-1, 1]\n",
        "        x /= np.hypot(*x)\n",
        "        x *= max(np.hypot(*eye_to_eye) * 2.0, np.hypot(*eye_to_mouth) * 1.8)\n",
        "        y = np.flipud(x) * [-1, 1]\n",
        "        c = eye_avg + eye_to_mouth * 0.1\n",
        "        quad = np.stack([c - x - y, c - x + y, c + x + y, c + x - y])\n",
        "        qsize = np.hypot(*x) * 2\n",
        "\n",
        "        # Load in-the-wild image.\n",
        "        if not os.path.isfile(src_file):\n",
        "            print('\\nCannot find source image. Please run \"--wilds\" before \"--align\".')\n",
        "            return\n",
        "        img = PIL.Image.open(src_file)\n",
        "\n",
        "        # Shrink.\n",
        "        shrink = int(np.floor(qsize / output_size * 0.5))\n",
        "        if shrink > 1:\n",
        "            rsize = (int(np.rint(float(img.size[0]) / shrink)), int(np.rint(float(img.size[1]) / shrink)))\n",
        "            img = img.resize(rsize, PIL.Image.ANTIALIAS)\n",
        "            quad /= shrink\n",
        "            qsize /= shrink\n",
        "\n",
        "        # Crop.\n",
        "        border = max(int(np.rint(qsize * 0.1)), 3)\n",
        "        crop = (int(np.floor(min(quad[:,0]))), int(np.floor(min(quad[:,1]))), int(np.ceil(max(quad[:,0]))), int(np.ceil(max(quad[:,1]))))\n",
        "        crop = (max(crop[0] - border, 0), max(crop[1] - border, 0), min(crop[2] + border, img.size[0]), min(crop[3] + border, img.size[1]))\n",
        "        if crop[2] - crop[0] < img.size[0] or crop[3] - crop[1] < img.size[1]:\n",
        "            img = img.crop(crop)\n",
        "            quad -= crop[0:2]\n",
        "\n",
        "        # Pad.\n",
        "        pad = (int(np.floor(min(quad[:,0]))), int(np.floor(min(quad[:,1]))), int(np.ceil(max(quad[:,0]))), int(np.ceil(max(quad[:,1]))))\n",
        "        pad = (max(-pad[0] + border, 0), max(-pad[1] + border, 0), max(pad[2] - img.size[0] + border, 0), max(pad[3] - img.size[1] + border, 0))\n",
        "        if enable_padding and max(pad) > border - 4:\n",
        "            pad = np.maximum(pad, int(np.rint(qsize * 0.3)))\n",
        "            img = np.pad(np.float32(img), ((pad[1], pad[3]), (pad[0], pad[2]), (0, 0)), 'reflect')\n",
        "            h, w, _ = img.shape\n",
        "            y, x, _ = np.ogrid[:h, :w, :1]\n",
        "            mask = np.maximum(1.0 - np.minimum(np.float32(x) / pad[0], np.float32(w-1-x) / pad[2]), 1.0 - np.minimum(np.float32(y) / pad[1], np.float32(h-1-y) / pad[3]))\n",
        "            blur = qsize * 0.02\n",
        "            img += (scipy.ndimage.gaussian_filter(img, [blur, blur, 0]) - img) * np.clip(mask * 3.0 + 1.0, 0.0, 1.0)\n",
        "            img += (np.median(img, axis=(0,1)) - img) * np.clip(mask, 0.0, 1.0)\n",
        "            img = PIL.Image.fromarray(np.uint8(np.clip(np.rint(img), 0, 255)), 'RGB')\n",
        "            quad += pad[:2]\n",
        "\n",
        "        # Transform.\n",
        "        img = img.transform((transform_size, transform_size), PIL.Image.QUAD, (quad + 0.5).flatten(), PIL.Image.BILINEAR)\n",
        "        if output_size < transform_size:\n",
        "            img = img.resize((output_size, output_size), PIL.Image.ANTIALIAS)\n",
        "\n",
        "        # Save aligned image.\n",
        "        img.save(dst_file, 'PNG')\n",
        "\n",
        "\n",
        "if not os.path.exists(ALIGNED_IMAGES_DIR):\n",
        "    os.makedirs(ALIGNED_IMAGES_DIR)\n",
        "\n",
        "landmarks_detector = face_alignment.FaceAlignment(face_alignment.LandmarksType._3D, flip_input=False)\n",
        "\n",
        "for img_name in os.listdir(RAW_IMAGES_DIR):\n",
        "    raw_img_path = os.path.join(RAW_IMAGES_DIR, img_name)\n",
        "\n",
        "    for i, face_landmarks in enumerate(landmarks_detector.get_landmarks(raw_img_path), start=1):\n",
        " \n",
        "        aligned_face_path = os.path.join(ALIGNED_IMAGES_DIR, f'align-{img_name}')\n",
        "\n",
        "        image_align(raw_img_path, aligned_face_path, face_landmarks)"
      ],
      "id": "mB0E5Esowuke"
    },
    {
      "cell_type": "code",
      "execution_count": 17,
      "metadata": {
        "id": "dgAM-P7lvtgv"
      },
      "outputs": [],
      "source": [
        "#align the image first\n",
        "target_img = '/content/aligned_images/align-target.png'"
      ],
      "id": "dgAM-P7lvtgv"
    },
    {
      "cell_type": "markdown",
      "source": [
        "### Projection to create cartoon iages of the given celeb"
      ],
      "metadata": {
        "id": "kWCAjhx5d-eO"
      },
      "id": "kWCAjhx5d-eO"
    },
    {
      "cell_type": "code",
      "execution_count": 18,
      "metadata": {
        "colab": {
          "base_uri": "https://localhost:8080/"
        },
        "id": "d3cdd106",
        "outputId": "6e468bd0-0f77-4557-eb0f-baa823a4db47"
      },
      "outputs": [
        {
          "output_type": "stream",
          "name": "stdout",
          "text": [
            "Loading networks from \"/content/stylegan2-ada-pytorch/network-snapshot-000012.pkl\"...\n",
            "Computing W midpoint and stddev using 10000 samples...\n",
            "Setting up PyTorch plugin \"bias_act_plugin\"... Done.\n",
            "Downloading https://nvlabs-fi-cdn.nvidia.com/stylegan2-ada-pytorch/pretrained/metrics/vgg16.pt ... done\n",
            "Setting up PyTorch plugin \"upfirdn2d_plugin\"... Done.\n",
            "/usr/local/lib/python3.10/dist-packages/torch/nn/modules/module.py:1130: UserWarning: operator() profile_node %106 : int = prim::profile_ivalue(%104)\n",
            " does not have profile information (Triggered internally at  ../torch/csrc/jit/codegen/cuda/graph_fuser.cpp:104.)\n",
            "  return forward_call(*input, **kwargs)\n",
            "/usr/local/lib/python3.10/dist-packages/torch/nn/modules/module.py:1130: UserWarning: concrete shape for bias input is required to decompose into conv + bias (Triggered internally at  ../torch/csrc/jit/codegen/cuda/graph_fuser.cpp:2233.)\n",
            "  return forward_call(*input, **kwargs)\n",
            "step    1/200: dist 0.72 loss 9555.92\n",
            "step    2/200: dist 0.73 loss 13247.65\n",
            "step    3/200: dist 0.71 loss 11507.06\n",
            "step    4/200: dist 0.72 loss 8733.96\n",
            "step    5/200: dist 0.72 loss 5718.16\n",
            "step    6/200: dist 0.65 loss 3206.07\n",
            "step    7/200: dist 0.64 loss 1981.69\n",
            "step    8/200: dist 0.60 loss 2403.17\n",
            "step    9/200: dist 0.63 loss 4000.50\n",
            "step   10/200: dist 0.59 loss 5833.19\n",
            "step   11/200: dist 0.56 loss 6814.37\n",
            "step   12/200: dist 0.56 loss 6572.87\n",
            "step   13/200: dist 0.55 loss 5761.25\n",
            "step   14/200: dist 0.52 loss 4617.23\n",
            "step   15/200: dist 0.53 loss 3444.40\n",
            "step   16/200: dist 0.49 loss 2551.87\n",
            "step   17/200: dist 0.52 loss 2080.43\n",
            "step   18/200: dist 0.51 loss 1776.14\n",
            "step   19/200: dist 0.52 loss 1548.26\n",
            "step   20/200: dist 0.50 loss 1486.67\n",
            "step   21/200: dist 0.51 loss 1577.53\n",
            "step   22/200: dist 0.48 loss 1594.81\n",
            "step   23/200: dist 0.49 loss 1501.47\n",
            "step   24/200: dist 0.48 loss 1397.17\n",
            "step   25/200: dist 0.48 loss 1362.36\n",
            "step   26/200: dist 0.48 loss 1322.64\n",
            "step   27/200: dist 0.48 loss 1191.34\n",
            "step   28/200: dist 0.47 loss 993.51\n",
            "step   29/200: dist 0.47 loss 776.14\n",
            "step   30/200: dist 0.47 loss 584.25\n",
            "step   31/200: dist 0.46 loss 441.21\n",
            "step   32/200: dist 0.47 loss 349.73\n",
            "step   33/200: dist 0.46 loss 328.62\n",
            "step   34/200: dist 0.45 loss 384.61\n",
            "step   35/200: dist 0.45 loss 444.99\n",
            "step   36/200: dist 0.44 loss 488.67\n",
            "step   37/200: dist 0.43 loss 493.62\n",
            "step   38/200: dist 0.44 loss 435.78\n",
            "step   39/200: dist 0.45 loss 341.22\n",
            "step   40/200: dist 0.44 loss 254.83\n",
            "step   41/200: dist 0.43 loss 177.55\n",
            "step   42/200: dist 0.45 loss 124.33\n",
            "step   43/200: dist 0.45 loss 110.15\n",
            "step   44/200: dist 0.46 loss 137.55\n",
            "step   45/200: dist 0.44 loss 172.37\n",
            "step   46/200: dist 0.43 loss 182.35\n",
            "step   47/200: dist 0.42 loss 166.79\n",
            "step   48/200: dist 0.41 loss 139.36\n",
            "step   49/200: dist 0.42 loss 109.31\n",
            "step   50/200: dist 0.42 loss 82.97\n",
            "step   51/200: dist 0.43 loss 72.74\n",
            "step   52/200: dist 0.44 loss 78.45\n",
            "step   53/200: dist 0.43 loss 78.69\n",
            "step   54/200: dist 0.43 loss 67.76\n",
            "step   55/200: dist 0.43 loss 57.71\n",
            "step   56/200: dist 0.42 loss 54.02\n",
            "step   57/200: dist 0.42 loss 49.06\n",
            "step   58/200: dist 0.42 loss 42.08\n",
            "step   59/200: dist 0.40 loss 38.61\n",
            "step   60/200: dist 0.40 loss 34.92\n",
            "step   61/200: dist 0.41 loss 30.54\n",
            "step   62/200: dist 0.41 loss 27.72\n",
            "step   63/200: dist 0.40 loss 29.74\n",
            "step   64/200: dist 0.41 loss 33.14\n",
            "step   65/200: dist 0.40 loss 29.75\n",
            "step   66/200: dist 0.40 loss 22.12\n",
            "step   67/200: dist 0.40 loss 14.90\n",
            "step   68/200: dist 0.40 loss 9.95 \n",
            "step   69/200: dist 0.40 loss 8.57 \n",
            "step   70/200: dist 0.39 loss 10.91\n",
            "step   71/200: dist 0.40 loss 14.41\n",
            "step   72/200: dist 0.40 loss 15.55\n",
            "step   73/200: dist 0.40 loss 14.17\n",
            "step   74/200: dist 0.39 loss 12.61\n",
            "step   75/200: dist 0.38 loss 13.00\n",
            "step   76/200: dist 0.39 loss 14.15\n",
            "step   77/200: dist 0.39 loss 14.07\n",
            "step   78/200: dist 0.38 loss 13.23\n",
            "step   79/200: dist 0.38 loss 11.66\n",
            "step   80/200: dist 0.37 loss 8.18 \n",
            "step   81/200: dist 0.37 loss 5.62 \n",
            "step   82/200: dist 0.38 loss 5.97 \n",
            "step   83/200: dist 0.37 loss 6.98 \n",
            "step   84/200: dist 0.37 loss 6.05 \n",
            "step   85/200: dist 0.37 loss 5.12 \n",
            "step   86/200: dist 0.37 loss 6.33 \n",
            "step   87/200: dist 0.37 loss 6.74 \n",
            "step   88/200: dist 0.37 loss 4.79 \n",
            "step   89/200: dist 0.36 loss 2.99 \n",
            "step   90/200: dist 0.37 loss 3.24 \n",
            "step   91/200: dist 0.37 loss 3.43 \n",
            "step   92/200: dist 0.36 loss 2.13 \n",
            "step   93/200: dist 0.36 loss 1.34 \n",
            "step   94/200: dist 0.36 loss 2.47 \n",
            "step   95/200: dist 0.36 loss 3.55 \n",
            "step   96/200: dist 0.36 loss 2.89 \n",
            "step   97/200: dist 0.35 loss 1.79 \n",
            "step   98/200: dist 0.35 loss 1.82 \n",
            "step   99/200: dist 0.35 loss 2.26 \n",
            "step  100/200: dist 0.36 loss 1.98 \n",
            "step  101/200: dist 0.36 loss 1.46 \n",
            "step  102/200: dist 0.35 loss 1.69 \n",
            "step  103/200: dist 0.35 loss 2.61 \n",
            "step  104/200: dist 0.36 loss 3.52 \n",
            "step  105/200: dist 0.36 loss 4.09 \n",
            "step  106/200: dist 0.35 loss 4.10 \n",
            "step  107/200: dist 0.35 loss 3.16 \n",
            "step  108/200: dist 0.35 loss 1.69 \n",
            "step  109/200: dist 0.35 loss 1.03 \n",
            "step  110/200: dist 0.34 loss 1.70 \n",
            "step  111/200: dist 0.34 loss 2.75 \n",
            "step  112/200: dist 0.34 loss 3.00 \n",
            "step  113/200: dist 0.34 loss 2.63 \n",
            "step  114/200: dist 0.34 loss 3.03 \n",
            "step  115/200: dist 0.34 loss 4.79 \n",
            "step  116/200: dist 0.34 loss 6.46 \n",
            "step  117/200: dist 0.33 loss 5.68 \n",
            "step  118/200: dist 0.33 loss 2.60 \n",
            "step  119/200: dist 0.33 loss 0.69 \n",
            "step  120/200: dist 0.34 loss 1.78 \n",
            "step  121/200: dist 0.33 loss 3.67 \n",
            "step  122/200: dist 0.33 loss 3.48 \n",
            "step  123/200: dist 0.33 loss 1.59 \n",
            "step  124/200: dist 0.33 loss 0.87 \n",
            "step  125/200: dist 0.33 loss 2.12 \n",
            "step  126/200: dist 0.33 loss 3.29 \n",
            "step  127/200: dist 0.33 loss 3.12 \n",
            "step  128/200: dist 0.33 loss 2.90 \n",
            "step  129/200: dist 0.32 loss 3.92 \n",
            "step  130/200: dist 0.33 loss 4.99 \n",
            "step  131/200: dist 0.33 loss 4.14 \n",
            "step  132/200: dist 0.33 loss 1.90 \n",
            "step  133/200: dist 0.33 loss 0.77 \n",
            "step  134/200: dist 0.33 loss 1.61 \n",
            "step  135/200: dist 0.33 loss 2.86 \n",
            "step  136/200: dist 0.32 loss 3.02 \n",
            "step  137/200: dist 0.32 loss 2.46 \n",
            "step  138/200: dist 0.32 loss 2.79 \n",
            "step  139/200: dist 0.32 loss 4.93 \n",
            "step  140/200: dist 0.32 loss 8.15 \n",
            "step  141/200: dist 0.32 loss 10.19\n",
            "step  142/200: dist 0.32 loss 8.36 \n",
            "step  143/200: dist 0.32 loss 3.31 \n",
            "step  144/200: dist 0.32 loss 0.75 \n",
            "step  145/200: dist 0.32 loss 3.10 \n",
            "step  146/200: dist 0.32 loss 5.81 \n",
            "step  147/200: dist 0.31 loss 4.41 \n",
            "step  148/200: dist 0.31 loss 1.29 \n",
            "step  149/200: dist 0.31 loss 1.55 \n",
            "step  150/200: dist 0.31 loss 4.18 \n",
            "step  151/200: dist 0.31 loss 4.88 \n",
            "step  152/200: dist 0.31 loss 4.09 \n",
            "step  153/200: dist 0.31 loss 5.85 \n",
            "step  154/200: dist 0.31 loss 9.73 \n",
            "step  155/200: dist 0.31 loss 10.58\n",
            "step  156/200: dist 0.31 loss 6.12 \n",
            "step  157/200: dist 0.31 loss 1.64 \n",
            "step  158/200: dist 0.31 loss 2.06 \n",
            "step  159/200: dist 0.31 loss 4.39 \n",
            "step  160/200: dist 0.30 loss 3.74 \n",
            "step  161/200: dist 0.30 loss 1.43 \n",
            "step  162/200: dist 0.30 loss 1.61 \n",
            "step  163/200: dist 0.30 loss 2.60 \n",
            "step  164/200: dist 0.30 loss 1.44 \n",
            "step  165/200: dist 0.30 loss 0.96 \n",
            "step  166/200: dist 0.30 loss 1.71 \n",
            "step  167/200: dist 0.30 loss 0.91 \n",
            "step  168/200: dist 0.30 loss 0.88 \n",
            "step  169/200: dist 0.30 loss 1.15 \n",
            "step  170/200: dist 0.30 loss 0.52 \n",
            "step  171/200: dist 0.30 loss 0.95 \n",
            "step  172/200: dist 0.30 loss 0.51 \n",
            "step  173/200: dist 0.30 loss 0.71 \n",
            "step  174/200: dist 0.30 loss 0.50 \n",
            "step  175/200: dist 0.30 loss 0.58 \n",
            "step  176/200: dist 0.30 loss 0.44 \n",
            "step  177/200: dist 0.30 loss 0.52 \n",
            "step  178/200: dist 0.30 loss 0.37 \n",
            "step  179/200: dist 0.30 loss 0.49 \n",
            "step  180/200: dist 0.30 loss 0.34 \n",
            "step  181/200: dist 0.30 loss 0.42 \n",
            "step  182/200: dist 0.30 loss 0.37 \n",
            "step  183/200: dist 0.30 loss 0.32 \n",
            "step  184/200: dist 0.30 loss 0.38 \n",
            "step  185/200: dist 0.30 loss 0.34 \n",
            "step  186/200: dist 0.29 loss 0.31 \n",
            "step  187/200: dist 0.29 loss 0.34 \n",
            "step  188/200: dist 0.29 loss 0.33 \n",
            "step  189/200: dist 0.29 loss 0.31 \n",
            "step  190/200: dist 0.29 loss 0.30 \n",
            "step  191/200: dist 0.29 loss 0.31 \n",
            "step  192/200: dist 0.29 loss 0.31 \n",
            "step  193/200: dist 0.29 loss 0.31 \n",
            "step  194/200: dist 0.29 loss 0.30 \n",
            "step  195/200: dist 0.29 loss 0.30 \n",
            "step  196/200: dist 0.29 loss 0.30 \n",
            "step  197/200: dist 0.29 loss 0.30 \n",
            "step  198/200: dist 0.29 loss 0.30 \n",
            "step  199/200: dist 0.29 loss 0.30 \n",
            "step  200/200: dist 0.29 loss 0.30 \n",
            "Elapsed: 25.2 s\n",
            "Saving optimization progress video \"/content/projector//proj.mp4\"\n"
          ]
        }
      ],
      "source": [
        "!python projector.py --network=$model_test --outdir=/content/projector/ --target=$target_img --num-steps=200 --seed=0"
      ],
      "id": "d3cdd106"
    },
    {
      "cell_type": "markdown",
      "source": [
        "# Utils"
      ],
      "metadata": {
        "id": "gL8TyYXNa25P"
      },
      "id": "gL8TyYXNa25P"
    },
    {
      "cell_type": "code",
      "execution_count": 19,
      "metadata": {
        "colab": {
          "base_uri": "https://localhost:8080/"
        },
        "id": "44669684",
        "outputId": "1d429e1d-f53e-4055-c848-88df41f22273"
      },
      "outputs": [
        {
          "output_type": "stream",
          "name": "stdout",
          "text": [
            "Looking in indexes: https://pypi.org/simple, https://us-python.pkg.dev/colab-wheels/public/simple/\n",
            "Requirement already satisfied: imageio in /usr/local/lib/python3.10/dist-packages (2.25.1)\n",
            "Requirement already satisfied: numpy in /usr/local/lib/python3.10/dist-packages (from imageio) (1.22.4)\n",
            "Requirement already satisfied: pillow>=8.3.2 in /usr/local/lib/python3.10/dist-packages (from imageio) (8.4.0)\n"
          ]
        }
      ],
      "source": [
        "!pip install imageio"
      ],
      "id": "44669684"
    },
    {
      "cell_type": "code",
      "execution_count": 20,
      "metadata": {
        "colab": {
          "base_uri": "https://localhost:8080/"
        },
        "id": "5172e523",
        "outputId": "69e5c646-a91e-4caf-b868-0320f2bb482f"
      },
      "outputs": [
        {
          "output_type": "stream",
          "name": "stdout",
          "text": [
            "Looking in indexes: https://pypi.org/simple, https://us-python.pkg.dev/colab-wheels/public/simple/\n",
            "Requirement already satisfied: imageio[ffmpeg] in /usr/local/lib/python3.10/dist-packages (2.25.1)\n",
            "Requirement already satisfied: numpy in /usr/local/lib/python3.10/dist-packages (from imageio[ffmpeg]) (1.22.4)\n",
            "Requirement already satisfied: pillow>=8.3.2 in /usr/local/lib/python3.10/dist-packages (from imageio[ffmpeg]) (8.4.0)\n",
            "Requirement already satisfied: imageio-ffmpeg in /usr/local/lib/python3.10/dist-packages (from imageio[ffmpeg]) (0.4.8)\n",
            "Requirement already satisfied: psutil in /usr/local/lib/python3.10/dist-packages (from imageio[ffmpeg]) (5.9.5)\n"
          ]
        }
      ],
      "source": [
        "!pip install imageio[ffmpeg]"
      ],
      "id": "5172e523"
    },
    {
      "cell_type": "code",
      "execution_count": 21,
      "metadata": {
        "id": "kaHI7ZnwVZ3e"
      },
      "outputs": [],
      "source": [
        "#!wget https://nvlabs-fi-cdn.nvidia.com/stylegan2-ada-pytorch/pretrained/metrics/inception-2015-12-05.pt\n",
        "#!mv inception-2015-12-05.pt pretrained/."
      ],
      "id": "kaHI7ZnwVZ3e"
    },
    {
      "cell_type": "markdown",
      "source": [
        "### Metrics calculation"
      ],
      "metadata": {
        "id": "1myhH5YTeGT0"
      },
      "id": "1myhH5YTeGT0"
    },
    {
      "cell_type": "code",
      "execution_count": 24,
      "metadata": {
        "colab": {
          "base_uri": "https://localhost:8080/"
        },
        "id": "5e368fa1",
        "outputId": "170bbaf0-d629-48d9-de70-92492bd1cc49"
      },
      "outputs": [
        {
          "output_type": "stream",
          "name": "stdout",
          "text": [
            "Loading network from \"/content/stylegan2-ada-pytorch/network-snapshot-000012.pkl\"...\n",
            "Dataset options:\n",
            "{\n",
            "  \"class_name\": \"training.dataset.ImageFolderDataset\",\n",
            "  \"path\": \"/content/aligned_images/align_image\",\n",
            "  \"resolution\": 256,\n",
            "  \"use_labels\": false,\n",
            "  \"xflip\": true\n",
            "}\n",
            "Launching processes...\n",
            "Setting up PyTorch plugin \"bias_act_plugin\"... Done.\n",
            "Setting up PyTorch plugin \"upfirdn2d_plugin\"... Done.\n",
            "\n",
            "Generator             Parameters  Buffers  Output shape        Datatype\n",
            "---                   ---         ---      ---                 ---     \n",
            "mapping.fc0           262656      -        [1, 512]            float32 \n",
            "mapping.fc1           262656      -        [1, 512]            float32 \n",
            "mapping.fc2           262656      -        [1, 512]            float32 \n",
            "mapping.fc3           262656      -        [1, 512]            float32 \n",
            "mapping.fc4           262656      -        [1, 512]            float32 \n",
            "mapping.fc5           262656      -        [1, 512]            float32 \n",
            "mapping.fc6           262656      -        [1, 512]            float32 \n",
            "mapping.fc7           262656      -        [1, 512]            float32 \n",
            "mapping               -           512      [1, 14, 512]        float32 \n",
            "synthesis.b4.conv1    2622465     32       [1, 512, 4, 4]      float32 \n",
            "synthesis.b4.torgb    264195      -        [1, 3, 4, 4]        float32 \n",
            "synthesis.b4:0        8192        16       [1, 512, 4, 4]      float32 \n",
            "synthesis.b4:1        -           -        [1, 512, 4, 4]      float32 \n",
            "synthesis.b8.conv0    2622465     80       [1, 512, 8, 8]      float32 \n",
            "synthesis.b8.conv1    2622465     80       [1, 512, 8, 8]      float32 \n",
            "synthesis.b8.torgb    264195      -        [1, 3, 8, 8]        float32 \n",
            "synthesis.b8:0        -           16       [1, 512, 8, 8]      float32 \n",
            "synthesis.b8:1        -           -        [1, 512, 8, 8]      float32 \n",
            "synthesis.b16.conv0   2622465     272      [1, 512, 16, 16]    float32 \n",
            "synthesis.b16.conv1   2622465     272      [1, 512, 16, 16]    float32 \n",
            "synthesis.b16.torgb   264195      -        [1, 3, 16, 16]      float32 \n",
            "synthesis.b16:0       -           16       [1, 512, 16, 16]    float32 \n",
            "synthesis.b16:1       -           -        [1, 512, 16, 16]    float32 \n",
            "synthesis.b32.conv0   2622465     1040     [1, 512, 32, 32]    float16 \n",
            "synthesis.b32.conv1   2622465     1040     [1, 512, 32, 32]    float16 \n",
            "synthesis.b32.torgb   264195      -        [1, 3, 32, 32]      float16 \n",
            "synthesis.b32:0       -           16       [1, 512, 32, 32]    float16 \n",
            "synthesis.b32:1       -           -        [1, 512, 32, 32]    float32 \n",
            "synthesis.b64.conv0   2622465     4112     [1, 512, 64, 64]    float16 \n",
            "synthesis.b64.conv1   2622465     4112     [1, 512, 64, 64]    float16 \n",
            "synthesis.b64.torgb   264195      -        [1, 3, 64, 64]      float16 \n",
            "synthesis.b64:0       -           16       [1, 512, 64, 64]    float16 \n",
            "synthesis.b64:1       -           -        [1, 512, 64, 64]    float32 \n",
            "synthesis.b128.conv0  1442561     16400    [1, 256, 128, 128]  float16 \n",
            "synthesis.b128.conv1  721409      16400    [1, 256, 128, 128]  float16 \n",
            "synthesis.b128.torgb  132099      -        [1, 3, 128, 128]    float16 \n",
            "synthesis.b128:0      -           16       [1, 256, 128, 128]  float16 \n",
            "synthesis.b128:1      -           -        [1, 256, 128, 128]  float32 \n",
            "synthesis.b256.conv0  426369      65552    [1, 128, 256, 256]  float16 \n",
            "synthesis.b256.conv1  213249      65552    [1, 128, 256, 256]  float16 \n",
            "synthesis.b256.torgb  66051       -        [1, 3, 256, 256]    float16 \n",
            "synthesis.b256:0      -           16       [1, 128, 256, 256]  float16 \n",
            "synthesis.b256:1      -           -        [1, 128, 256, 256]  float32 \n",
            "---                   ---         ---      ---                 ---     \n",
            "Total                 30034338    175568   -                   -       \n",
            "\n",
            "Calculating fid50k_full...\n",
            "Downloading https://nvlabs-fi-cdn.nvidia.com/stylegan2-ada-pytorch/pretrained/metrics/inception-2015-12-05.pt ... done\n",
            "dataset features    items 82      time 13s          ms/item 156.51\n",
            "generator features  items 1024    time 19s          ms/item 18.97\n",
            "\n",
            "Aborted!\n"
          ]
        }
      ],
      "source": [
        "!python calc_metrics.py --network=$model_test --metrics=fid50k_full --data=/content/aligned_images/align_image --mirror=1"
      ],
      "id": "5e368fa1"
    },
    {
      "cell_type": "markdown",
      "source": [
        "### FID score"
      ],
      "metadata": {
        "id": "8hBbv-wUeKlj"
      },
      "id": "8hBbv-wUeKlj"
    },
    {
      "cell_type": "code",
      "execution_count": 30,
      "metadata": {
        "colab": {
          "base_uri": "https://localhost:8080/"
        },
        "id": "6YxKdGDG1IMr",
        "outputId": "326d9f24-cfbb-45bf-c00f-787a66ce5aff"
      },
      "outputs": [
        {
          "output_type": "stream",
          "name": "stdout",
          "text": [
            "Looking in indexes: https://pypi.org/simple, https://us-python.pkg.dev/colab-wheels/public/simple/\n",
            "Requirement already satisfied: pytorch-fid in /usr/local/lib/python3.10/dist-packages (0.3.0)\n",
            "Requirement already satisfied: numpy in /usr/local/lib/python3.10/dist-packages (from pytorch-fid) (1.22.4)\n",
            "Requirement already satisfied: pillow in /usr/local/lib/python3.10/dist-packages (from pytorch-fid) (8.4.0)\n",
            "Requirement already satisfied: scipy in /usr/local/lib/python3.10/dist-packages (from pytorch-fid) (1.10.1)\n",
            "Requirement already satisfied: torch>=1.0.1 in /usr/local/lib/python3.10/dist-packages (from pytorch-fid) (2.0.1)\n",
            "Requirement already satisfied: torchvision>=0.2.2 in /usr/local/lib/python3.10/dist-packages (from pytorch-fid) (0.15.2)\n",
            "Requirement already satisfied: filelock in /usr/local/lib/python3.10/dist-packages (from torch>=1.0.1->pytorch-fid) (3.12.0)\n",
            "Requirement already satisfied: typing-extensions in /usr/local/lib/python3.10/dist-packages (from torch>=1.0.1->pytorch-fid) (4.5.0)\n",
            "Requirement already satisfied: sympy in /usr/local/lib/python3.10/dist-packages (from torch>=1.0.1->pytorch-fid) (1.11.1)\n",
            "Requirement already satisfied: networkx in /usr/local/lib/python3.10/dist-packages (from torch>=1.0.1->pytorch-fid) (3.1)\n",
            "Requirement already satisfied: jinja2 in /usr/local/lib/python3.10/dist-packages (from torch>=1.0.1->pytorch-fid) (3.1.2)\n",
            "Requirement already satisfied: nvidia-cuda-nvrtc-cu11==11.7.99 in /usr/local/lib/python3.10/dist-packages (from torch>=1.0.1->pytorch-fid) (11.7.99)\n",
            "Requirement already satisfied: nvidia-cuda-runtime-cu11==11.7.99 in /usr/local/lib/python3.10/dist-packages (from torch>=1.0.1->pytorch-fid) (11.7.99)\n",
            "Requirement already satisfied: nvidia-cuda-cupti-cu11==11.7.101 in /usr/local/lib/python3.10/dist-packages (from torch>=1.0.1->pytorch-fid) (11.7.101)\n",
            "Requirement already satisfied: nvidia-cudnn-cu11==8.5.0.96 in /usr/local/lib/python3.10/dist-packages (from torch>=1.0.1->pytorch-fid) (8.5.0.96)\n",
            "Requirement already satisfied: nvidia-cublas-cu11==11.10.3.66 in /usr/local/lib/python3.10/dist-packages (from torch>=1.0.1->pytorch-fid) (11.10.3.66)\n",
            "Requirement already satisfied: nvidia-cufft-cu11==10.9.0.58 in /usr/local/lib/python3.10/dist-packages (from torch>=1.0.1->pytorch-fid) (10.9.0.58)\n",
            "Requirement already satisfied: nvidia-curand-cu11==10.2.10.91 in /usr/local/lib/python3.10/dist-packages (from torch>=1.0.1->pytorch-fid) (10.2.10.91)\n",
            "Requirement already satisfied: nvidia-cusolver-cu11==11.4.0.1 in /usr/local/lib/python3.10/dist-packages (from torch>=1.0.1->pytorch-fid) (11.4.0.1)\n",
            "Requirement already satisfied: nvidia-cusparse-cu11==11.7.4.91 in /usr/local/lib/python3.10/dist-packages (from torch>=1.0.1->pytorch-fid) (11.7.4.91)\n",
            "Requirement already satisfied: nvidia-nccl-cu11==2.14.3 in /usr/local/lib/python3.10/dist-packages (from torch>=1.0.1->pytorch-fid) (2.14.3)\n",
            "Requirement already satisfied: nvidia-nvtx-cu11==11.7.91 in /usr/local/lib/python3.10/dist-packages (from torch>=1.0.1->pytorch-fid) (11.7.91)\n",
            "Requirement already satisfied: triton==2.0.0 in /usr/local/lib/python3.10/dist-packages (from torch>=1.0.1->pytorch-fid) (2.0.0)\n",
            "Requirement already satisfied: setuptools in /usr/local/lib/python3.10/dist-packages (from nvidia-cublas-cu11==11.10.3.66->torch>=1.0.1->pytorch-fid) (59.5.0)\n",
            "Requirement already satisfied: wheel in /usr/local/lib/python3.10/dist-packages (from nvidia-cublas-cu11==11.10.3.66->torch>=1.0.1->pytorch-fid) (0.40.0)\n",
            "Requirement already satisfied: cmake in /usr/local/lib/python3.10/dist-packages (from triton==2.0.0->torch>=1.0.1->pytorch-fid) (3.25.2)\n",
            "Requirement already satisfied: lit in /usr/local/lib/python3.10/dist-packages (from triton==2.0.0->torch>=1.0.1->pytorch-fid) (16.0.5)\n",
            "Requirement already satisfied: requests in /usr/local/lib/python3.10/dist-packages (from torchvision>=0.2.2->pytorch-fid) (2.27.1)\n",
            "Requirement already satisfied: MarkupSafe>=2.0 in /usr/local/lib/python3.10/dist-packages (from jinja2->torch>=1.0.1->pytorch-fid) (2.1.2)\n",
            "Requirement already satisfied: urllib3<1.27,>=1.21.1 in /usr/local/lib/python3.10/dist-packages (from requests->torchvision>=0.2.2->pytorch-fid) (1.26.15)\n",
            "Requirement already satisfied: certifi>=2017.4.17 in /usr/local/lib/python3.10/dist-packages (from requests->torchvision>=0.2.2->pytorch-fid) (2022.12.7)\n",
            "Requirement already satisfied: charset-normalizer~=2.0.0 in /usr/local/lib/python3.10/dist-packages (from requests->torchvision>=0.2.2->pytorch-fid) (2.0.12)\n",
            "Requirement already satisfied: idna<4,>=2.5 in /usr/local/lib/python3.10/dist-packages (from requests->torchvision>=0.2.2->pytorch-fid) (3.4)\n",
            "Requirement already satisfied: mpmath>=0.19 in /usr/local/lib/python3.10/dist-packages (from sympy->torch>=1.0.1->pytorch-fid) (1.3.0)\n",
            "mkdir: cannot create directory ‘/content/projector/og’: File exists\n",
            "mkdir: cannot create directory ‘/content/projector/car’: File exists\n",
            "Warning: batch size is bigger than the data size. Setting batch size to data size\n",
            "100% 1/1 [00:01<00:00,  1.65s/it]\n",
            "Warning: batch size is bigger than the data size. Setting batch size to data size\n",
            "100% 1/1 [00:00<00:00,  3.87it/s]\n",
            "FID:  98.66142796078567\n"
          ]
        }
      ],
      "source": [
        "!pip install pytorch-fid\n",
        "!mkdir /content/projector/og\n",
        "!mkdir /content/projector/car\n",
        "!mv /content/projector/target.png /content/projector/og/.\n",
        "!mv /content/projector/proj.png /content/projector/car/.\n",
        "\n",
        "!python -m pytorch_fid /content/projector/og /content/projector/car"
      ],
      "id": "6YxKdGDG1IMr"
    },
    {
      "cell_type": "markdown",
      "source": [
        "### Visualize the animated images for the given celeb input image"
      ],
      "metadata": {
        "id": "5m6K0CWQeO6Z"
      },
      "id": "5m6K0CWQeO6Z"
    },
    {
      "cell_type": "code",
      "source": [
        "import matplotlib.pyplot as plt\n",
        "import matplotlib.image as mpimg\n",
        "\n",
        "# Paths to the images\n",
        "og_image_path = '/content/projector/og/target.png'\n",
        "im_image_path = '/content/projector/car/proj.png'\n",
        "\n",
        "# Load the images\n",
        "og_image = mpimg.imread(og_image_path)\n",
        "im_image = mpimg.imread(im_image_path)\n",
        "\n",
        "# Display the images side by side\n",
        "fig, axes = plt.subplots(1, 2)\n",
        "axes[0].imshow(og_image)\n",
        "axes[0].set_title('Original Image')\n",
        "axes[1].imshow(im_image)\n",
        "axes[1].set_title('Cartoon Image')\n",
        "\n",
        "# Remove axis ticks and labels\n",
        "for ax in axes:\n",
        "    ax.axis('off')\n",
        "\n",
        "# Adjust spacing\n",
        "plt.tight_layout()\n",
        "\n",
        "# Show the plot\n",
        "plt.show()"
      ],
      "metadata": {
        "colab": {
          "base_uri": "https://localhost:8080/",
          "height": 356
        },
        "id": "nEJZTnn7bWsx",
        "outputId": "bc118e24-f80b-4674-fffa-289fed072eee"
      },
      "id": "nEJZTnn7bWsx",
      "execution_count": 31,
      "outputs": [
        {
          "output_type": "display_data",
          "data": {
            "text/plain": [
              "<Figure size 640x480 with 2 Axes>"
            ],
            "image/png": "[encoded data removed]"
          },
          "metadata": {}
        }
      ]
    },
    {
      "cell_type": "markdown",
      "source": [
        "### Thank You!"
      ],
      "metadata": {
        "id": "rRAxCkeKeVCP"
      },
      "id": "rRAxCkeKeVCP"
    },
    {
      "cell_type": "code",
      "source": [],
      "metadata": {
        "id": "OJvqb6dzeWlu"
      },
      "id": "OJvqb6dzeWlu",
      "execution_count": null,
      "outputs": []
    }
  ],
  "metadata": {
    "accelerator": "GPU",
    "colab": {
      "machine_shape": "hm",
      "provenance": []
    },
    "gpuClass": "standard",
    "kernelspec": {
      "display_name": "Python 3 (ipykernel)",
      "language": "python",
      "name": "python3"
    },
    "language_info": {
      "codemirror_mode": {
        "name": "ipython",
        "version": 3
      },
      "file_extension": ".py",
      "mimetype": "text/x-python",
      "name": "python",
      "nbconvert_exporter": "python",
      "pygments_lexer": "ipython3",
      "version": "3.9.16"
    },
    "widgets": {
      "application/vnd.jupyter.widget-state+json": {
        "7a538d20a7f04283a182dafcbeed49f3": {
          "model_module": "@jupyter-widgets/controls",
          "model_name": "HBoxModel",
          "model_module_version": "1.5.0",
          "state": {
            "_dom_classes": [],
            "_model_module": "@jupyter-widgets/controls",
            "_model_module_version": "1.5.0",
            "_model_name": "HBoxModel",
            "_view_count": null,
            "_view_module": "@jupyter-widgets/controls",
            "_view_module_version": "1.5.0",
            "_view_name": "HBoxView",
            "box_style": "",
            "children": [
              "IPY_MODEL_1be100b1f8384de0ab299553faaba9e3",
              "IPY_MODEL_1f68dc17ed48479d85eb278d26316398",
              "IPY_MODEL_bb284e829af94c74871a4232c45cca1c"
            ],
            "layout": "IPY_MODEL_811380c383ac43009be62c42b9a1ee9b"
          }
        },
        "1be100b1f8384de0ab299553faaba9e3": {
          "model_module": "@jupyter-widgets/controls",
          "model_name": "HTMLModel",
          "model_module_version": "1.5.0",
          "state": {
            "_dom_classes": [],
            "_model_module": "@jupyter-widgets/controls",
            "_model_module_version": "1.5.0",
            "_model_name": "HTMLModel",
            "_view_count": null,
            "_view_module": "@jupyter-widgets/controls",
            "_view_module_version": "1.5.0",
            "_view_name": "HTMLView",
            "description": "",
            "description_tooltip": null,
            "layout": "IPY_MODEL_c9c111dc403b47dfb3cbd8d2d086e000",
            "placeholder": "​",
            "style": "IPY_MODEL_3a6f0c2a3efc49c9aaba4af0575d5e91",
            "value": "100%"
          }
        },
        "1f68dc17ed48479d85eb278d26316398": {
          "model_module": "@jupyter-widgets/controls",
          "model_name": "FloatProgressModel",
          "model_module_version": "1.5.0",
          "state": {
            "_dom_classes": [],
            "_model_module": "@jupyter-widgets/controls",
            "_model_module_version": "1.5.0",
            "_model_name": "FloatProgressModel",
            "_view_count": null,
            "_view_module": "@jupyter-widgets/controls",
            "_view_module_version": "1.5.0",
            "_view_name": "ProgressView",
            "bar_style": "success",
            "description": "",
            "description_tooltip": null,
            "layout": "IPY_MODEL_6f52fc27c1354a19995e8e22b2d3bb5a",
            "max": 89843225,
            "min": 0,
            "orientation": "horizontal",
            "style": "IPY_MODEL_4c5680d385354ba4a1756fb6593da532",
            "value": 89843225
          }
        },
        "bb284e829af94c74871a4232c45cca1c": {
          "model_module": "@jupyter-widgets/controls",
          "model_name": "HTMLModel",
          "model_module_version": "1.5.0",
          "state": {
            "_dom_classes": [],
            "_model_module": "@jupyter-widgets/controls",
            "_model_module_version": "1.5.0",
            "_model_name": "HTMLModel",
            "_view_count": null,
            "_view_module": "@jupyter-widgets/controls",
            "_view_module_version": "1.5.0",
            "_view_name": "HTMLView",
            "description": "",
            "description_tooltip": null,
            "layout": "IPY_MODEL_c112f89c1a644d4282633cb8d1b7e527",
            "placeholder": "​",
            "style": "IPY_MODEL_aac26c315fe34bb9b5a64f57cdc32edc",
            "value": " 85.7M/85.7M [00:10&lt;00:00, 9.95MB/s]"
          }
        },
        "811380c383ac43009be62c42b9a1ee9b": {
          "model_module": "@jupyter-widgets/base",
          "model_name": "LayoutModel",
          "model_module_version": "1.2.0",
          "state": {
            "_model_module": "@jupyter-widgets/base",
            "_model_module_version": "1.2.0",
            "_model_name": "LayoutModel",
            "_view_count": null,
            "_view_module": "@jupyter-widgets/base",
            "_view_module_version": "1.2.0",
            "_view_name": "LayoutView",
            "align_content": null,
            "align_items": null,
            "align_self": null,
            "border": null,
            "bottom": null,
            "display": null,
            "flex": null,
            "flex_flow": null,
            "grid_area": null,
            "grid_auto_columns": null,
            "grid_auto_flow": null,
            "grid_auto_rows": null,
            "grid_column": null,
            "grid_gap": null,
            "grid_row": null,
            "grid_template_areas": null,
            "grid_template_columns": null,
            "grid_template_rows": null,
            "height": null,
            "justify_content": null,
            "justify_items": null,
            "left": null,
            "margin": null,
            "max_height": null,
            "max_width": null,
            "min_height": null,
            "min_width": null,
            "object_fit": null,
            "object_position": null,
            "order": null,
            "overflow": null,
            "overflow_x": null,
            "overflow_y": null,
            "padding": null,
            "right": null,
            "top": null,
            "visibility": null,
            "width": null
          }
        },
        "c9c111dc403b47dfb3cbd8d2d086e000": {
          "model_module": "@jupyter-widgets/base",
          "model_name": "LayoutModel",
          "model_module_version": "1.2.0",
          "state": {
            "_model_module": "@jupyter-widgets/base",
            "_model_module_version": "1.2.0",
            "_model_name": "LayoutModel",
            "_view_count": null,
            "_view_module": "@jupyter-widgets/base",
            "_view_module_version": "1.2.0",
            "_view_name": "LayoutView",
            "align_content": null,
            "align_items": null,
            "align_self": null,
            "border": null,
            "bottom": null,
            "display": null,
            "flex": null,
            "flex_flow": null,
            "grid_area": null,
            "grid_auto_columns": null,
            "grid_auto_flow": null,
            "grid_auto_rows": null,
            "grid_column": null,
            "grid_gap": null,
            "grid_row": null,
            "grid_template_areas": null,
            "grid_template_columns": null,
            "grid_template_rows": null,
            "height": null,
            "justify_content": null,
            "justify_items": null,
            "left": null,
            "margin": null,
            "max_height": null,
            "max_width": null,
            "min_height": null,
            "min_width": null,
            "object_fit": null,
            "object_position": null,
            "order": null,
            "overflow": null,
            "overflow_x": null,
            "overflow_y": null,
            "padding": null,
            "right": null,
            "top": null,
            "visibility": null,
            "width": null
          }
        },
        "3a6f0c2a3efc49c9aaba4af0575d5e91": {
          "model_module": "@jupyter-widgets/controls",
          "model_name": "DescriptionStyleModel",
          "model_module_version": "1.5.0",
          "state": {
            "_model_module": "@jupyter-widgets/controls",
            "_model_module_version": "1.5.0",
            "_model_name": "DescriptionStyleModel",
            "_view_count": null,
            "_view_module": "@jupyter-widgets/base",
            "_view_module_version": "1.2.0",
            "_view_name": "StyleView",
            "description_width": ""
          }
        },
        "6f52fc27c1354a19995e8e22b2d3bb5a": {
          "model_module": "@jupyter-widgets/base",
          "model_name": "LayoutModel",
          "model_module_version": "1.2.0",
          "state": {
            "_model_module": "@jupyter-widgets/base",
            "_model_module_version": "1.2.0",
            "_model_name": "LayoutModel",
            "_view_count": null,
            "_view_module": "@jupyter-widgets/base",
            "_view_module_version": "1.2.0",
            "_view_name": "LayoutView",
            "align_content": null,
            "align_items": null,
            "align_self": null,
            "border": null,
            "bottom": null,
            "display": null,
            "flex": null,
            "flex_flow": null,
            "grid_area": null,
            "grid_auto_columns": null,
            "grid_auto_flow": null,
            "grid_auto_rows": null,
            "grid_column": null,
            "grid_gap": null,
            "grid_row": null,
            "grid_template_areas": null,
            "grid_template_columns": null,
            "grid_template_rows": null,
            "height": null,
            "justify_content": null,
            "justify_items": null,
            "left": null,
            "margin": null,
            "max_height": null,
            "max_width": null,
            "min_height": null,
            "min_width": null,
            "object_fit": null,
            "object_position": null,
            "order": null,
            "overflow": null,
            "overflow_x": null,
            "overflow_y": null,
            "padding": null,
            "right": null,
            "top": null,
            "visibility": null,
            "width": null
          }
        },
        "4c5680d385354ba4a1756fb6593da532": {
          "model_module": "@jupyter-widgets/controls",
          "model_name": "ProgressStyleModel",
          "model_module_version": "1.5.0",
          "state": {
            "_model_module": "@jupyter-widgets/controls",
            "_model_module_version": "1.5.0",
            "_model_name": "ProgressStyleModel",
            "_view_count": null,
            "_view_module": "@jupyter-widgets/base",
            "_view_module_version": "1.2.0",
            "_view_name": "StyleView",
            "bar_color": null,
            "description_width": ""
          }
        },
        "c112f89c1a644d4282633cb8d1b7e527": {
          "model_module": "@jupyter-widgets/base",
          "model_name": "LayoutModel",
          "model_module_version": "1.2.0",
          "state": {
            "_model_module": "@jupyter-widgets/base",
            "_model_module_version": "1.2.0",
            "_model_name": "LayoutModel",
            "_view_count": null,
            "_view_module": "@jupyter-widgets/base",
            "_view_module_version": "1.2.0",
            "_view_name": "LayoutView",
            "align_content": null,
            "align_items": null,
            "align_self": null,
            "border": null,
            "bottom": null,
            "display": null,
            "flex": null,
            "flex_flow": null,
            "grid_area": null,
            "grid_auto_columns": null,
            "grid_auto_flow": null,
            "grid_auto_rows": null,
            "grid_column": null,
            "grid_gap": null,
            "grid_row": null,
            "grid_template_areas": null,
            "grid_template_columns": null,
            "grid_template_rows": null,
            "height": null,
            "justify_content": null,
            "justify_items": null,
            "left": null,
            "margin": null,
            "max_height": null,
            "max_width": null,
            "min_height": null,
            "min_width": null,
            "object_fit": null,
            "object_position": null,
            "order": null,
            "overflow": null,
            "overflow_x": null,
            "overflow_y": null,
            "padding": null,
            "right": null,
            "top": null,
            "visibility": null,
            "width": null
          }
        },
        "aac26c315fe34bb9b5a64f57cdc32edc": {
          "model_module": "@jupyter-widgets/controls",
          "model_name": "DescriptionStyleModel",
          "model_module_version": "1.5.0",
          "state": {
            "_model_module": "@jupyter-widgets/controls",
            "_model_module_version": "1.5.0",
            "_model_name": "DescriptionStyleModel",
            "_view_count": null,
            "_view_module": "@jupyter-widgets/base",
            "_view_module_version": "1.2.0",
            "_view_name": "StyleView",
            "description_width": ""
          }
        },
        "7b2132f898c04fff8af87bde163292a2": {
          "model_module": "@jupyter-widgets/controls",
          "model_name": "HBoxModel",
          "model_module_version": "1.5.0",
          "state": {
            "_dom_classes": [],
            "_model_module": "@jupyter-widgets/controls",
            "_model_module_version": "1.5.0",
            "_model_name": "HBoxModel",
            "_view_count": null,
            "_view_module": "@jupyter-widgets/controls",
            "_view_module_version": "1.5.0",
            "_view_name": "HBoxView",
            "box_style": "",
            "children": [
              "IPY_MODEL_db0d6bef08cf4ee2b548f43f84208ece",
              "IPY_MODEL_5f8df53f8ff34a01b1745b466753ee4f",
              "IPY_MODEL_1c11df65f099459fafaba248ea2f5c4d"
            ],
            "layout": "IPY_MODEL_197edf1da5a64f6098b06569ff73e5f5"
          }
        },
        "db0d6bef08cf4ee2b548f43f84208ece": {
          "model_module": "@jupyter-widgets/controls",
          "model_name": "HTMLModel",
          "model_module_version": "1.5.0",
          "state": {
            "_dom_classes": [],
            "_model_module": "@jupyter-widgets/controls",
            "_model_module_version": "1.5.0",
            "_model_name": "HTMLModel",
            "_view_count": null,
            "_view_module": "@jupyter-widgets/controls",
            "_view_module_version": "1.5.0",
            "_view_name": "HTMLView",
            "description": "",
            "description_tooltip": null,
            "layout": "IPY_MODEL_2128c4b43da04337a3034f626898a05e",
            "placeholder": "​",
            "style": "IPY_MODEL_25e998586a714ea79f26bdc253bfbb42",
            "value": "100%"
          }
        },
        "5f8df53f8ff34a01b1745b466753ee4f": {
          "model_module": "@jupyter-widgets/controls",
          "model_name": "FloatProgressModel",
          "model_module_version": "1.5.0",
          "state": {
            "_dom_classes": [],
            "_model_module": "@jupyter-widgets/controls",
            "_model_module_version": "1.5.0",
            "_model_name": "FloatProgressModel",
            "_view_count": null,
            "_view_module": "@jupyter-widgets/controls",
            "_view_module_version": "1.5.0",
            "_view_name": "ProgressView",
            "bar_style": "success",
            "description": "",
            "description_tooltip": null,
            "layout": "IPY_MODEL_e39aa606d54c40be8377b25bab44fc6e",
            "max": 96316515,
            "min": 0,
            "orientation": "horizontal",
            "style": "IPY_MODEL_8de4775f4f7c431194b7c9f408456566",
            "value": 96316515
          }
        },
        "1c11df65f099459fafaba248ea2f5c4d": {
          "model_module": "@jupyter-widgets/controls",
          "model_name": "HTMLModel",
          "model_module_version": "1.5.0",
          "state": {
            "_dom_classes": [],
            "_model_module": "@jupyter-widgets/controls",
            "_model_module_version": "1.5.0",
            "_model_name": "HTMLModel",
            "_view_count": null,
            "_view_module": "@jupyter-widgets/controls",
            "_view_module_version": "1.5.0",
            "_view_name": "HTMLView",
            "description": "",
            "description_tooltip": null,
            "layout": "IPY_MODEL_dbc0756d23e64600bcb4dbe459c9c9b5",
            "placeholder": "​",
            "style": "IPY_MODEL_01afaa6ac133454d8f889fafc9cc381d",
            "value": " 91.9M/91.9M [00:10&lt;00:00, 10.2MB/s]"
          }
        },
        "197edf1da5a64f6098b06569ff73e5f5": {
          "model_module": "@jupyter-widgets/base",
          "model_name": "LayoutModel",
          "model_module_version": "1.2.0",
          "state": {
            "_model_module": "@jupyter-widgets/base",
            "_model_module_version": "1.2.0",
            "_model_name": "LayoutModel",
            "_view_count": null,
            "_view_module": "@jupyter-widgets/base",
            "_view_module_version": "1.2.0",
            "_view_name": "LayoutView",
            "align_content": null,
            "align_items": null,
            "align_self": null,
            "border": null,
            "bottom": null,
            "display": null,
            "flex": null,
            "flex_flow": null,
            "grid_area": null,
            "grid_auto_columns": null,
            "grid_auto_flow": null,
            "grid_auto_rows": null,
            "grid_column": null,
            "grid_gap": null,
            "grid_row": null,
            "grid_template_areas": null,
            "grid_template_columns": null,
            "grid_template_rows": null,
            "height": null,
            "justify_content": null,
            "justify_items": null,
            "left": null,
            "margin": null,
            "max_height": null,
            "max_width": null,
            "min_height": null,
            "min_width": null,
            "object_fit": null,
            "object_position": null,
            "order": null,
            "overflow": null,
            "overflow_x": null,
            "overflow_y": null,
            "padding": null,
            "right": null,
            "top": null,
            "visibility": null,
            "width": null
          }
        },
        "2128c4b43da04337a3034f626898a05e": {
          "model_module": "@jupyter-widgets/base",
          "model_name": "LayoutModel",
          "model_module_version": "1.2.0",
          "state": {
            "_model_module": "@jupyter-widgets/base",
            "_model_module_version": "1.2.0",
            "_model_name": "LayoutModel",
            "_view_count": null,
            "_view_module": "@jupyter-widgets/base",
            "_view_module_version": "1.2.0",
            "_view_name": "LayoutView",
            "align_content": null,
            "align_items": null,
            "align_self": null,
            "border": null,
            "bottom": null,
            "display": null,
            "flex": null,
            "flex_flow": null,
            "grid_area": null,
            "grid_auto_columns": null,
            "grid_auto_flow": null,
            "grid_auto_rows": null,
            "grid_column": null,
            "grid_gap": null,
            "grid_row": null,
            "grid_template_areas": null,
            "grid_template_columns": null,
            "grid_template_rows": null,
            "height": null,
            "justify_content": null,
            "justify_items": null,
            "left": null,
            "margin": null,
            "max_height": null,
            "max_width": null,
            "min_height": null,
            "min_width": null,
            "object_fit": null,
            "object_position": null,
            "order": null,
            "overflow": null,
            "overflow_x": null,
            "overflow_y": null,
            "padding": null,
            "right": null,
            "top": null,
            "visibility": null,
            "width": null
          }
        },
        "25e998586a714ea79f26bdc253bfbb42": {
          "model_module": "@jupyter-widgets/controls",
          "model_name": "DescriptionStyleModel",
          "model_module_version": "1.5.0",
          "state": {
            "_model_module": "@jupyter-widgets/controls",
            "_model_module_version": "1.5.0",
            "_model_name": "DescriptionStyleModel",
            "_view_count": null,
            "_view_module": "@jupyter-widgets/base",
            "_view_module_version": "1.2.0",
            "_view_name": "StyleView",
            "description_width": ""
          }
        },
        "e39aa606d54c40be8377b25bab44fc6e": {
          "model_module": "@jupyter-widgets/base",
          "model_name": "LayoutModel",
          "model_module_version": "1.2.0",
          "state": {
            "_model_module": "@jupyter-widgets/base",
            "_model_module_version": "1.2.0",
            "_model_name": "LayoutModel",
            "_view_count": null,
            "_view_module": "@jupyter-widgets/base",
            "_view_module_version": "1.2.0",
            "_view_name": "LayoutView",
            "align_content": null,
            "align_items": null,
            "align_self": null,
            "border": null,
            "bottom": null,
            "display": null,
            "flex": null,
            "flex_flow": null,
            "grid_area": null,
            "grid_auto_columns": null,
            "grid_auto_flow": null,
            "grid_auto_rows": null,
            "grid_column": null,
            "grid_gap": null,
            "grid_row": null,
            "grid_template_areas": null,
            "grid_template_columns": null,
            "grid_template_rows": null,
            "height": null,
            "justify_content": null,
            "justify_items": null,
            "left": null,
            "margin": null,
            "max_height": null,
            "max_width": null,
            "min_height": null,
            "min_width": null,
            "object_fit": null,
            "object_position": null,
            "order": null,
            "overflow": null,
            "overflow_x": null,
            "overflow_y": null,
            "padding": null,
            "right": null,
            "top": null,
            "visibility": null,
            "width": null
          }
        },
        "8de4775f4f7c431194b7c9f408456566": {
          "model_module": "@jupyter-widgets/controls",
          "model_name": "ProgressStyleModel",
          "model_module_version": "1.5.0",
          "state": {
            "_model_module": "@jupyter-widgets/controls",
            "_model_module_version": "1.5.0",
            "_model_name": "ProgressStyleModel",
            "_view_count": null,
            "_view_module": "@jupyter-widgets/base",
            "_view_module_version": "1.2.0",
            "_view_name": "StyleView",
            "bar_color": null,
            "description_width": ""
          }
        },
        "dbc0756d23e64600bcb4dbe459c9c9b5": {
          "model_module": "@jupyter-widgets/base",
          "model_name": "LayoutModel",
          "model_module_version": "1.2.0",
          "state": {
            "_model_module": "@jupyter-widgets/base",
            "_model_module_version": "1.2.0",
            "_model_name": "LayoutModel",
            "_view_count": null,
            "_view_module": "@jupyter-widgets/base",
            "_view_module_version": "1.2.0",
            "_view_name": "LayoutView",
            "align_content": null,
            "align_items": null,
            "align_self": null,
            "border": null,
            "bottom": null,
            "display": null,
            "flex": null,
            "flex_flow": null,
            "grid_area": null,
            "grid_auto_columns": null,
            "grid_auto_flow": null,
            "grid_auto_rows": null,
            "grid_column": null,
            "grid_gap": null,
            "grid_row": null,
            "grid_template_areas": null,
            "grid_template_columns": null,
            "grid_template_rows": null,
            "height": null,
            "justify_content": null,
            "justify_items": null,
            "left": null,
            "margin": null,
            "max_height": null,
            "max_width": null,
            "min_height": null,
            "min_width": null,
            "object_fit": null,
            "object_position": null,
            "order": null,
            "overflow": null,
            "overflow_x": null,
            "overflow_y": null,
            "padding": null,
            "right": null,
            "top": null,
            "visibility": null,
            "width": null
          }
        },
        "01afaa6ac133454d8f889fafc9cc381d": {
          "model_module": "@jupyter-widgets/controls",
          "model_name": "DescriptionStyleModel",
          "model_module_version": "1.5.0",
          "state": {
            "_model_module": "@jupyter-widgets/controls",
            "_model_module_version": "1.5.0",
            "_model_name": "DescriptionStyleModel",
            "_view_count": null,
            "_view_module": "@jupyter-widgets/base",
            "_view_module_version": "1.2.0",
            "_view_name": "StyleView",
            "description_width": ""
          }
        },
        "cae549454a334168b6c913cc1bd7ce9f": {
          "model_module": "@jupyter-widgets/controls",
          "model_name": "HBoxModel",
          "model_module_version": "1.5.0",
          "state": {
            "_dom_classes": [],
            "_model_module": "@jupyter-widgets/controls",
            "_model_module_version": "1.5.0",
            "_model_name": "HBoxModel",
            "_view_count": null,
            "_view_module": "@jupyter-widgets/controls",
            "_view_module_version": "1.5.0",
            "_view_name": "HBoxView",
            "box_style": "",
            "children": [
              "IPY_MODEL_952b5993855344afac939a00aca8bed4",
              "IPY_MODEL_98bffc63eb204603ae6358244539f0b8",
              "IPY_MODEL_d90e39472046455eb34965ce48a4ab6e"
            ],
            "layout": "IPY_MODEL_e45630730d3140a9be6313152d02c178"
          }
        },
        "952b5993855344afac939a00aca8bed4": {
          "model_module": "@jupyter-widgets/controls",
          "model_name": "HTMLModel",
          "model_module_version": "1.5.0",
          "state": {
            "_dom_classes": [],
            "_model_module": "@jupyter-widgets/controls",
            "_model_module_version": "1.5.0",
            "_model_name": "HTMLModel",
            "_view_count": null,
            "_view_module": "@jupyter-widgets/controls",
            "_view_module_version": "1.5.0",
            "_view_name": "HTMLView",
            "description": "",
            "description_tooltip": null,
            "layout": "IPY_MODEL_b9375423bde94eb9b0568c7fdb2ac9a2",
            "placeholder": "​",
            "style": "IPY_MODEL_de2fc05923c24f99aadcc74b68ea493b",
            "value": "100%"
          }
        },
        "98bffc63eb204603ae6358244539f0b8": {
          "model_module": "@jupyter-widgets/controls",
          "model_name": "FloatProgressModel",
          "model_module_version": "1.5.0",
          "state": {
            "_dom_classes": [],
            "_model_module": "@jupyter-widgets/controls",
            "_model_module_version": "1.5.0",
            "_model_name": "FloatProgressModel",
            "_view_count": null,
            "_view_module": "@jupyter-widgets/controls",
            "_view_module_version": "1.5.0",
            "_view_name": "ProgressView",
            "bar_style": "success",
            "description": "",
            "description_tooltip": null,
            "layout": "IPY_MODEL_2f1a0a7636514b1daf5494f07b34fa1d",
            "max": 235314250,
            "min": 0,
            "orientation": "horizontal",
            "style": "IPY_MODEL_17e967a79ecd424ab4128612bccebdd1",
            "value": 235314250
          }
        },
        "d90e39472046455eb34965ce48a4ab6e": {
          "model_module": "@jupyter-widgets/controls",
          "model_name": "HTMLModel",
          "model_module_version": "1.5.0",
          "state": {
            "_dom_classes": [],
            "_model_module": "@jupyter-widgets/controls",
            "_model_module_version": "1.5.0",
            "_model_name": "HTMLModel",
            "_view_count": null,
            "_view_module": "@jupyter-widgets/controls",
            "_view_module_version": "1.5.0",
            "_view_name": "HTMLView",
            "description": "",
            "description_tooltip": null,
            "layout": "IPY_MODEL_5b95eb7f8f7d4119b0562ffd58105825",
            "placeholder": "​",
            "style": "IPY_MODEL_a780b8c994d04f529a3065a3900ed18e",
            "value": " 224M/224M [01:33&lt;00:00, 1.85MB/s]"
          }
        },
        "e45630730d3140a9be6313152d02c178": {
          "model_module": "@jupyter-widgets/base",
          "model_name": "LayoutModel",
          "model_module_version": "1.2.0",
          "state": {
            "_model_module": "@jupyter-widgets/base",
            "_model_module_version": "1.2.0",
            "_model_name": "LayoutModel",
            "_view_count": null,
            "_view_module": "@jupyter-widgets/base",
            "_view_module_version": "1.2.0",
            "_view_name": "LayoutView",
            "align_content": null,
            "align_items": null,
            "align_self": null,
            "border": null,
            "bottom": null,
            "display": null,
            "flex": null,
            "flex_flow": null,
            "grid_area": null,
            "grid_auto_columns": null,
            "grid_auto_flow": null,
            "grid_auto_rows": null,
            "grid_column": null,
            "grid_gap": null,
            "grid_row": null,
            "grid_template_areas": null,
            "grid_template_columns": null,
            "grid_template_rows": null,
            "height": null,
            "justify_content": null,
            "justify_items": null,
            "left": null,
            "margin": null,
            "max_height": null,
            "max_width": null,
            "min_height": null,
            "min_width": null,
            "object_fit": null,
            "object_position": null,
            "order": null,
            "overflow": null,
            "overflow_x": null,
            "overflow_y": null,
            "padding": null,
            "right": null,
            "top": null,
            "visibility": null,
            "width": null
          }
        },
        "b9375423bde94eb9b0568c7fdb2ac9a2": {
          "model_module": "@jupyter-widgets/base",
          "model_name": "LayoutModel",
          "model_module_version": "1.2.0",
          "state": {
            "_model_module": "@jupyter-widgets/base",
            "_model_module_version": "1.2.0",
            "_model_name": "LayoutModel",
            "_view_count": null,
            "_view_module": "@jupyter-widgets/base",
            "_view_module_version": "1.2.0",
            "_view_name": "LayoutView",
            "align_content": null,
            "align_items": null,
            "align_self": null,
            "border": null,
            "bottom": null,
            "display": null,
            "flex": null,
            "flex_flow": null,
            "grid_area": null,
            "grid_auto_columns": null,
            "grid_auto_flow": null,
            "grid_auto_rows": null,
            "grid_column": null,
            "grid_gap": null,
            "grid_row": null,
            "grid_template_areas": null,
            "grid_template_columns": null,
            "grid_template_rows": null,
            "height": null,
            "justify_content": null,
            "justify_items": null,
            "left": null,
            "margin": null,
            "max_height": null,
            "max_width": null,
            "min_height": null,
            "min_width": null,
            "object_fit": null,
            "object_position": null,
            "order": null,
            "overflow": null,
            "overflow_x": null,
            "overflow_y": null,
            "padding": null,
            "right": null,
            "top": null,
            "visibility": null,
            "width": null
          }
        },
        "de2fc05923c24f99aadcc74b68ea493b": {
          "model_module": "@jupyter-widgets/controls",
          "model_name": "DescriptionStyleModel",
          "model_module_version": "1.5.0",
          "state": {
            "_model_module": "@jupyter-widgets/controls",
            "_model_module_version": "1.5.0",
            "_model_name": "DescriptionStyleModel",
            "_view_count": null,
            "_view_module": "@jupyter-widgets/base",
            "_view_module_version": "1.2.0",
            "_view_name": "StyleView",
            "description_width": ""
          }
        },
        "2f1a0a7636514b1daf5494f07b34fa1d": {
          "model_module": "@jupyter-widgets/base",
          "model_name": "LayoutModel",
          "model_module_version": "1.2.0",
          "state": {
            "_model_module": "@jupyter-widgets/base",
            "_model_module_version": "1.2.0",
            "_model_name": "LayoutModel",
            "_view_count": null,
            "_view_module": "@jupyter-widgets/base",
            "_view_module_version": "1.2.0",
            "_view_name": "LayoutView",
            "align_content": null,
            "align_items": null,
            "align_self": null,
            "border": null,
            "bottom": null,
            "display": null,
            "flex": null,
            "flex_flow": null,
            "grid_area": null,
            "grid_auto_columns": null,
            "grid_auto_flow": null,
            "grid_auto_rows": null,
            "grid_column": null,
            "grid_gap": null,
            "grid_row": null,
            "grid_template_areas": null,
            "grid_template_columns": null,
            "grid_template_rows": null,
            "height": null,
            "justify_content": null,
            "justify_items": null,
            "left": null,
            "margin": null,
            "max_height": null,
            "max_width": null,
            "min_height": null,
            "min_width": null,
            "object_fit": null,
            "object_position": null,
            "order": null,
            "overflow": null,
            "overflow_x": null,
            "overflow_y": null,
            "padding": null,
            "right": null,
            "top": null,
            "visibility": null,
            "width": null
          }
        },
        "17e967a79ecd424ab4128612bccebdd1": {
          "model_module": "@jupyter-widgets/controls",
          "model_name": "ProgressStyleModel",
          "model_module_version": "1.5.0",
          "state": {
            "_model_module": "@jupyter-widgets/controls",
            "_model_module_version": "1.5.0",
            "_model_name": "ProgressStyleModel",
            "_view_count": null,
            "_view_module": "@jupyter-widgets/base",
            "_view_module_version": "1.2.0",
            "_view_name": "StyleView",
            "bar_color": null,
            "description_width": ""
          }
        },
        "5b95eb7f8f7d4119b0562ffd58105825": {
          "model_module": "@jupyter-widgets/base",
          "model_name": "LayoutModel",
          "model_module_version": "1.2.0",
          "state": {
            "_model_module": "@jupyter-widgets/base",
            "_model_module_version": "1.2.0",
            "_model_name": "LayoutModel",
            "_view_count": null,
            "_view_module": "@jupyter-widgets/base",
            "_view_module_version": "1.2.0",
            "_view_name": "LayoutView",
            "align_content": null,
            "align_items": null,
            "align_self": null,
            "border": null,
            "bottom": null,
            "display": null,
            "flex": null,
            "flex_flow": null,
            "grid_area": null,
            "grid_auto_columns": null,
            "grid_auto_flow": null,
            "grid_auto_rows": null,
            "grid_column": null,
            "grid_gap": null,
            "grid_row": null,
            "grid_template_areas": null,
            "grid_template_columns": null,
            "grid_template_rows": null,
            "height": null,
            "justify_content": null,
            "justify_items": null,
            "left": null,
            "margin": null,
            "max_height": null,
            "max_width": null,
            "min_height": null,
            "min_width": null,
            "object_fit": null,
            "object_position": null,
            "order": null,
            "overflow": null,
            "overflow_x": null,
            "overflow_y": null,
            "padding": null,
            "right": null,
            "top": null,
            "visibility": null,
            "width": null
          }
        },
        "a780b8c994d04f529a3065a3900ed18e": {
          "model_module": "@jupyter-widgets/controls",
          "model_name": "DescriptionStyleModel",
          "model_module_version": "1.5.0",
          "state": {
            "_model_module": "@jupyter-widgets/controls",
            "_model_module_version": "1.5.0",
            "_model_name": "DescriptionStyleModel",
            "_view_count": null,
            "_view_module": "@jupyter-widgets/base",
            "_view_module_version": "1.2.0",
            "_view_name": "StyleView",
            "description_width": ""
          }
        }
      }
    }
  },
  "nbformat": 4,
  "nbformat_minor": 5
}